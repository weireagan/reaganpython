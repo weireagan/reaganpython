{
  "nbformat": 4,
  "nbformat_minor": 0,
  "metadata": {
    "colab": {
      "name": "Untitled11.ipynb",
      "provenance": [],
      "authorship_tag": "ABX9TyM4CE0A8DMLZJnMuXwaiAkm",
      "include_colab_link": true
    },
    "kernelspec": {
      "name": "python3",
      "display_name": "Python 3"
    }
  },
  "cells": [
    {
      "cell_type": "markdown",
      "metadata": {
        "id": "view-in-github",
        "colab_type": "text"
      },
      "source": [
        "<a href=\"https://colab.research.google.com/github/weireagan/reaganpython/blob/master/%E7%B0%A1%E6%98%93%E8%AE%80%E5%8F%96%E8%B2%A1%E5%A0%B1%E4%B8%A6%E5%88%86%E6%9E%901.ipynb\" target=\"_parent\"><img src=\"https://colab.research.google.com/assets/colab-badge.svg\" alt=\"Open In Colab\"/></a>"
      ]
    },
    {
      "cell_type": "code",
      "metadata": {
        "id": "EyVR8zh0BwY1",
        "colab_type": "code",
        "colab": {}
      },
      "source": [
        "%matplotlib inline \n",
        "import pandas as pd\n",
        "import matplotlib.pyplot as plt\n",
        "import numpy as np\n",
        "\n"
      ],
      "execution_count": 0,
      "outputs": []
    },
    {
      "cell_type": "code",
      "metadata": {
        "id": "7wiHNzrUEZJc",
        "colab_type": "code",
        "colab": {}
      },
      "source": [
        "###讀取上市公司財報\n"
      ],
      "execution_count": 0,
      "outputs": []
    },
    {
      "cell_type": "code",
      "metadata": {
        "id": "dAVl-UxXBySo",
        "colab_type": "code",
        "colab": {}
      },
      "source": [
        "df=pd.read_csv(\"http://mopsfin.twse.com.tw/opendata/t187ap14_L.csv\")"
      ],
      "execution_count": 0,
      "outputs": []
    },
    {
      "cell_type": "code",
      "metadata": {
        "id": "3ShJSll8ElnS",
        "colab_type": "code",
        "colab": {}
      },
      "source": [
        "###引入套件"
      ],
      "execution_count": 0,
      "outputs": []
    },
    {
      "cell_type": "code",
      "metadata": {
        "id": "e0cJEasWCMvj",
        "colab_type": "code",
        "colab": {
          "base_uri": "https://localhost:8080/",
          "height": 141
        },
        "outputId": "e3174801-cb80-4d57-e801-2159feacb503"
      },
      "source": [
        " !pip install twstock"
      ],
      "execution_count": 26,
      "outputs": [
        {
          "output_type": "stream",
          "text": [
            "Requirement already satisfied: twstock in /usr/local/lib/python3.6/dist-packages (1.3.1)\n",
            "Requirement already satisfied: requests in /usr/local/lib/python3.6/dist-packages (from twstock) (2.23.0)\n",
            "Requirement already satisfied: idna<3,>=2.5 in /usr/local/lib/python3.6/dist-packages (from requests->twstock) (2.9)\n",
            "Requirement already satisfied: urllib3!=1.25.0,!=1.25.1,<1.26,>=1.21.1 in /usr/local/lib/python3.6/dist-packages (from requests->twstock) (1.24.3)\n",
            "Requirement already satisfied: certifi>=2017.4.17 in /usr/local/lib/python3.6/dist-packages (from requests->twstock) (2020.4.5.1)\n",
            "Requirement already satisfied: chardet<4,>=3.0.2 in /usr/local/lib/python3.6/dist-packages (from requests->twstock) (3.0.4)\n"
          ],
          "name": "stdout"
        }
      ]
    },
    {
      "cell_type": "code",
      "metadata": {
        "id": "xm4y_vCQClEo",
        "colab_type": "code",
        "colab": {}
      },
      "source": [
        "import twstock"
      ],
      "execution_count": 0,
      "outputs": []
    },
    {
      "cell_type": "code",
      "metadata": {
        "id": "jgKycAdeCzYZ",
        "colab_type": "code",
        "colab": {
          "base_uri": "https://localhost:8080/",
          "height": 302
        },
        "outputId": "5a8427eb-0838-439e-9e2d-83bc7d799621"
      },
      "source": [
        "df.head()"
      ],
      "execution_count": 28,
      "outputs": [
        {
          "output_type": "execute_result",
          "data": {
            "text/html": [
              "<div>\n",
              "<style scoped>\n",
              "    .dataframe tbody tr th:only-of-type {\n",
              "        vertical-align: middle;\n",
              "    }\n",
              "\n",
              "    .dataframe tbody tr th {\n",
              "        vertical-align: top;\n",
              "    }\n",
              "\n",
              "    .dataframe thead th {\n",
              "        text-align: right;\n",
              "    }\n",
              "</style>\n",
              "<table border=\"1\" class=\"dataframe\">\n",
              "  <thead>\n",
              "    <tr style=\"text-align: right;\">\n",
              "      <th></th>\n",
              "      <th>出表日期</th>\n",
              "      <th>年度</th>\n",
              "      <th>季別</th>\n",
              "      <th>公司代號</th>\n",
              "      <th>公司名稱</th>\n",
              "      <th>產業別</th>\n",
              "      <th>基本每股盈餘(元)</th>\n",
              "      <th>普通股每股面額</th>\n",
              "      <th>營業收入</th>\n",
              "      <th>營業利益</th>\n",
              "      <th>營業外收入及支出</th>\n",
              "      <th>稅後淨利</th>\n",
              "    </tr>\n",
              "  </thead>\n",
              "  <tbody>\n",
              "    <tr>\n",
              "      <th>0</th>\n",
              "      <td>109/06/07</td>\n",
              "      <td>109</td>\n",
              "      <td>1</td>\n",
              "      <td>1101</td>\n",
              "      <td>台灣水泥股份有限公司</td>\n",
              "      <td>水泥工業</td>\n",
              "      <td>0.55</td>\n",
              "      <td>新台幣                 10.0000元</td>\n",
              "      <td>21976200.0</td>\n",
              "      <td>4460154.00</td>\n",
              "      <td>273722.00</td>\n",
              "      <td>3481119.0</td>\n",
              "    </tr>\n",
              "    <tr>\n",
              "      <th>1</th>\n",
              "      <td>109/06/07</td>\n",
              "      <td>109</td>\n",
              "      <td>1</td>\n",
              "      <td>1102</td>\n",
              "      <td>亞洲水泥股份有限公司</td>\n",
              "      <td>水泥工業</td>\n",
              "      <td>0.24</td>\n",
              "      <td>新台幣                 10.0000元</td>\n",
              "      <td>13138882.0</td>\n",
              "      <td>2021639.00</td>\n",
              "      <td>-453351.00</td>\n",
              "      <td>1130599.0</td>\n",
              "    </tr>\n",
              "    <tr>\n",
              "      <th>2</th>\n",
              "      <td>109/06/07</td>\n",
              "      <td>109</td>\n",
              "      <td>1</td>\n",
              "      <td>1103</td>\n",
              "      <td>嘉新水泥股份有限公司</td>\n",
              "      <td>水泥工業</td>\n",
              "      <td>-0.33</td>\n",
              "      <td>新台幣                 10.0000元</td>\n",
              "      <td>495334.0</td>\n",
              "      <td>-158911.00</td>\n",
              "      <td>-46824.00</td>\n",
              "      <td>-214194.0</td>\n",
              "    </tr>\n",
              "    <tr>\n",
              "      <th>3</th>\n",
              "      <td>109/06/07</td>\n",
              "      <td>109</td>\n",
              "      <td>1</td>\n",
              "      <td>1104</td>\n",
              "      <td>環球水泥股份有限公司</td>\n",
              "      <td>水泥工業</td>\n",
              "      <td>0.07</td>\n",
              "      <td>新台幣                 10.0000元</td>\n",
              "      <td>1253758.0</td>\n",
              "      <td>67425.00</td>\n",
              "      <td>-16843.00</td>\n",
              "      <td>48161.0</td>\n",
              "    </tr>\n",
              "    <tr>\n",
              "      <th>4</th>\n",
              "      <td>109/06/07</td>\n",
              "      <td>109</td>\n",
              "      <td>1</td>\n",
              "      <td>1108</td>\n",
              "      <td>幸福水泥股份有限公司</td>\n",
              "      <td>水泥工業</td>\n",
              "      <td>0.23</td>\n",
              "      <td>新台幣                 10.0000元</td>\n",
              "      <td>1104720.0</td>\n",
              "      <td>110132.00</td>\n",
              "      <td>-5836.00</td>\n",
              "      <td>93609.0</td>\n",
              "    </tr>\n",
              "  </tbody>\n",
              "</table>\n",
              "</div>"
            ],
            "text/plain": [
              "        出表日期   年度  季別  公司代號  ...        營業收入        營業利益    營業外收入及支出       稅後淨利\n",
              "0  109/06/07  109   1  1101  ...  21976200.0  4460154.00   273722.00  3481119.0\n",
              "1  109/06/07  109   1  1102  ...  13138882.0  2021639.00  -453351.00  1130599.0\n",
              "2  109/06/07  109   1  1103  ...    495334.0  -158911.00   -46824.00  -214194.0\n",
              "3  109/06/07  109   1  1104  ...   1253758.0    67425.00   -16843.00    48161.0\n",
              "4  109/06/07  109   1  1108  ...   1104720.0   110132.00    -5836.00    93609.0\n",
              "\n",
              "[5 rows x 12 columns]"
            ]
          },
          "metadata": {
            "tags": []
          },
          "execution_count": 28
        }
      ]
    },
    {
      "cell_type": "code",
      "metadata": {
        "id": "DuOsDfawEsti",
        "colab_type": "code",
        "colab": {}
      },
      "source": [
        "###採用產業類別區分並計算產業平均\n"
      ],
      "execution_count": 0,
      "outputs": []
    },
    {
      "cell_type": "code",
      "metadata": {
        "id": "72AgR3H5C27Y",
        "colab_type": "code",
        "colab": {
          "base_uri": "https://localhost:8080/",
          "height": 228
        },
        "outputId": "5fa093f8-2b71-4124-f7b8-19f7257bba66"
      },
      "source": [
        "dfsum=df.groupby(by=[\"產業別\"]).sum()\n",
        "dfsum.head()"
      ],
      "execution_count": 29,
      "outputs": [
        {
          "output_type": "execute_result",
          "data": {
            "text/html": [
              "<div>\n",
              "<style scoped>\n",
              "    .dataframe tbody tr th:only-of-type {\n",
              "        vertical-align: middle;\n",
              "    }\n",
              "\n",
              "    .dataframe tbody tr th {\n",
              "        vertical-align: top;\n",
              "    }\n",
              "\n",
              "    .dataframe thead th {\n",
              "        text-align: right;\n",
              "    }\n",
              "</style>\n",
              "<table border=\"1\" class=\"dataframe\">\n",
              "  <thead>\n",
              "    <tr style=\"text-align: right;\">\n",
              "      <th></th>\n",
              "      <th>年度</th>\n",
              "      <th>季別</th>\n",
              "      <th>公司代號</th>\n",
              "      <th>基本每股盈餘(元)</th>\n",
              "      <th>營業收入</th>\n",
              "      <th>稅後淨利</th>\n",
              "    </tr>\n",
              "    <tr>\n",
              "      <th>產業別</th>\n",
              "      <th></th>\n",
              "      <th></th>\n",
              "      <th></th>\n",
              "      <th></th>\n",
              "      <th></th>\n",
              "      <th></th>\n",
              "    </tr>\n",
              "  </thead>\n",
              "  <tbody>\n",
              "    <tr>\n",
              "      <th>光電業</th>\n",
              "      <td>7630</td>\n",
              "      <td>70</td>\n",
              "      <td>304583</td>\n",
              "      <td>52.39</td>\n",
              "      <td>2.514231e+08</td>\n",
              "      <td>-9003584.0</td>\n",
              "    </tr>\n",
              "    <tr>\n",
              "      <th>其他</th>\n",
              "      <td>7957</td>\n",
              "      <td>73</td>\n",
              "      <td>548843</td>\n",
              "      <td>54.87</td>\n",
              "      <td>2.131018e+08</td>\n",
              "      <td>17239921.0</td>\n",
              "    </tr>\n",
              "    <tr>\n",
              "      <th>其他電子業</th>\n",
              "      <td>4033</td>\n",
              "      <td>37</td>\n",
              "      <td>146050</td>\n",
              "      <td>19.06</td>\n",
              "      <td>1.032339e+09</td>\n",
              "      <td>9275342.0</td>\n",
              "    </tr>\n",
              "    <tr>\n",
              "      <th>化學工業</th>\n",
              "      <td>3270</td>\n",
              "      <td>30</td>\n",
              "      <td>77888</td>\n",
              "      <td>11.43</td>\n",
              "      <td>6.117284e+07</td>\n",
              "      <td>2547155.0</td>\n",
              "    </tr>\n",
              "    <tr>\n",
              "      <th>半導體業</th>\n",
              "      <td>7957</td>\n",
              "      <td>73</td>\n",
              "      <td>312793</td>\n",
              "      <td>69.48</td>\n",
              "      <td>6.971161e+08</td>\n",
              "      <td>146426465.0</td>\n",
              "    </tr>\n",
              "  </tbody>\n",
              "</table>\n",
              "</div>"
            ],
            "text/plain": [
              "         年度  季別    公司代號  基本每股盈餘(元)          營業收入         稅後淨利\n",
              "產業別                                                          \n",
              "光電業    7630  70  304583      52.39  2.514231e+08   -9003584.0\n",
              "其他     7957  73  548843      54.87  2.131018e+08   17239921.0\n",
              "其他電子業  4033  37  146050      19.06  1.032339e+09    9275342.0\n",
              "化學工業   3270  30   77888      11.43  6.117284e+07    2547155.0\n",
              "半導體業   7957  73  312793      69.48  6.971161e+08  146426465.0"
            ]
          },
          "metadata": {
            "tags": []
          },
          "execution_count": 29
        }
      ]
    },
    {
      "cell_type": "code",
      "metadata": {
        "id": "4w3kGynIDYld",
        "colab_type": "code",
        "colab": {}
      },
      "source": [
        "EPSav=dfsum[\"基本每股盈餘(元)\"].values/(dfsum[\"季別\"].values/3)\n",
        "incomeav=dfsum[\"營業收入\"].values/(dfsum[\"季別\"].values/3)\n",
        "taxav=dfsum[\"稅後淨利\"].values/(dfsum[\"季別\"].values/3)"
      ],
      "execution_count": 0,
      "outputs": []
    },
    {
      "cell_type": "code",
      "metadata": {
        "id": "zJcRDfdqDs2c",
        "colab_type": "code",
        "colab": {}
      },
      "source": [
        "dfsum.insert(3,\"EPS平均\",value=EPSav)"
      ],
      "execution_count": 0,
      "outputs": []
    },
    {
      "cell_type": "code",
      "metadata": {
        "id": "p8RBItY2DvNc",
        "colab_type": "code",
        "colab": {}
      },
      "source": [
        "dfsum.insert(5,\"營業收入平均\",value=incomeav)\n",
        "dfsum.insert(7,\"稅後淨利平均\",value=taxav)"
      ],
      "execution_count": 0,
      "outputs": []
    },
    {
      "cell_type": "code",
      "metadata": {
        "id": "UGzgDHPTDxH6",
        "colab_type": "code",
        "colab": {
          "base_uri": "https://localhost:8080/",
          "height": 228
        },
        "outputId": "3cdd3878-1cfd-4cab-864e-9ae354654887"
      },
      "source": [
        "dfsum.head()"
      ],
      "execution_count": 33,
      "outputs": [
        {
          "output_type": "execute_result",
          "data": {
            "text/html": [
              "<div>\n",
              "<style scoped>\n",
              "    .dataframe tbody tr th:only-of-type {\n",
              "        vertical-align: middle;\n",
              "    }\n",
              "\n",
              "    .dataframe tbody tr th {\n",
              "        vertical-align: top;\n",
              "    }\n",
              "\n",
              "    .dataframe thead th {\n",
              "        text-align: right;\n",
              "    }\n",
              "</style>\n",
              "<table border=\"1\" class=\"dataframe\">\n",
              "  <thead>\n",
              "    <tr style=\"text-align: right;\">\n",
              "      <th></th>\n",
              "      <th>年度</th>\n",
              "      <th>季別</th>\n",
              "      <th>公司代號</th>\n",
              "      <th>EPS平均</th>\n",
              "      <th>基本每股盈餘(元)</th>\n",
              "      <th>營業收入平均</th>\n",
              "      <th>營業收入</th>\n",
              "      <th>稅後淨利平均</th>\n",
              "      <th>稅後淨利</th>\n",
              "    </tr>\n",
              "    <tr>\n",
              "      <th>產業別</th>\n",
              "      <th></th>\n",
              "      <th></th>\n",
              "      <th></th>\n",
              "      <th></th>\n",
              "      <th></th>\n",
              "      <th></th>\n",
              "      <th></th>\n",
              "      <th></th>\n",
              "      <th></th>\n",
              "    </tr>\n",
              "  </thead>\n",
              "  <tbody>\n",
              "    <tr>\n",
              "      <th>光電業</th>\n",
              "      <td>7630</td>\n",
              "      <td>70</td>\n",
              "      <td>304583</td>\n",
              "      <td>2.245286</td>\n",
              "      <td>52.39</td>\n",
              "      <td>1.077528e+07</td>\n",
              "      <td>2.514231e+08</td>\n",
              "      <td>-3.858679e+05</td>\n",
              "      <td>-9003584.0</td>\n",
              "    </tr>\n",
              "    <tr>\n",
              "      <th>其他</th>\n",
              "      <td>7957</td>\n",
              "      <td>73</td>\n",
              "      <td>548843</td>\n",
              "      <td>2.254932</td>\n",
              "      <td>54.87</td>\n",
              "      <td>8.757610e+06</td>\n",
              "      <td>2.131018e+08</td>\n",
              "      <td>7.084899e+05</td>\n",
              "      <td>17239921.0</td>\n",
              "    </tr>\n",
              "    <tr>\n",
              "      <th>其他電子業</th>\n",
              "      <td>4033</td>\n",
              "      <td>37</td>\n",
              "      <td>146050</td>\n",
              "      <td>1.545405</td>\n",
              "      <td>19.06</td>\n",
              "      <td>8.370313e+07</td>\n",
              "      <td>1.032339e+09</td>\n",
              "      <td>7.520548e+05</td>\n",
              "      <td>9275342.0</td>\n",
              "    </tr>\n",
              "    <tr>\n",
              "      <th>化學工業</th>\n",
              "      <td>3270</td>\n",
              "      <td>30</td>\n",
              "      <td>77888</td>\n",
              "      <td>1.143000</td>\n",
              "      <td>11.43</td>\n",
              "      <td>6.117284e+06</td>\n",
              "      <td>6.117284e+07</td>\n",
              "      <td>2.547155e+05</td>\n",
              "      <td>2547155.0</td>\n",
              "    </tr>\n",
              "    <tr>\n",
              "      <th>半導體業</th>\n",
              "      <td>7957</td>\n",
              "      <td>73</td>\n",
              "      <td>312793</td>\n",
              "      <td>2.855342</td>\n",
              "      <td>69.48</td>\n",
              "      <td>2.864861e+07</td>\n",
              "      <td>6.971161e+08</td>\n",
              "      <td>6.017526e+06</td>\n",
              "      <td>146426465.0</td>\n",
              "    </tr>\n",
              "  </tbody>\n",
              "</table>\n",
              "</div>"
            ],
            "text/plain": [
              "         年度  季別    公司代號  ...          營業收入        稅後淨利平均         稅後淨利\n",
              "產業別                      ...                                         \n",
              "光電業    7630  70  304583  ...  2.514231e+08 -3.858679e+05   -9003584.0\n",
              "其他     7957  73  548843  ...  2.131018e+08  7.084899e+05   17239921.0\n",
              "其他電子業  4033  37  146050  ...  1.032339e+09  7.520548e+05    9275342.0\n",
              "化學工業   3270  30   77888  ...  6.117284e+07  2.547155e+05    2547155.0\n",
              "半導體業   7957  73  312793  ...  6.971161e+08  6.017526e+06  146426465.0\n",
              "\n",
              "[5 rows x 9 columns]"
            ]
          },
          "metadata": {
            "tags": []
          },
          "execution_count": 33
        }
      ]
    },
    {
      "cell_type": "code",
      "metadata": {
        "id": "zgju5YOEFBGC",
        "colab_type": "code",
        "colab": {}
      },
      "source": [
        "###EPS高於產業平均"
      ],
      "execution_count": 0,
      "outputs": []
    },
    {
      "cell_type": "code",
      "metadata": {
        "id": "9SJncOzADzDq",
        "colab_type": "code",
        "colab": {
          "base_uri": "https://localhost:8080/",
          "height": 492
        },
        "outputId": "641bb533-3bbc-4349-9186-439b574ba2c3"
      },
      "source": [
        "dfav=dfsum[[\"EPS平均\",\"營業收入平均\",\"稅後淨利平均\"]]\n",
        "df_merge=df.merge(dfav,left_on=\"產業別\",right_on=\"產業別\")\n",
        "\n",
        "df_merge[df_merge[\"EPS平均\"]<df_merge[\"基本每股盈餘(元)\"]].head()"
      ],
      "execution_count": 35,
      "outputs": [
        {
          "output_type": "execute_result",
          "data": {
            "text/html": [
              "<div>\n",
              "<style scoped>\n",
              "    .dataframe tbody tr th:only-of-type {\n",
              "        vertical-align: middle;\n",
              "    }\n",
              "\n",
              "    .dataframe tbody tr th {\n",
              "        vertical-align: top;\n",
              "    }\n",
              "\n",
              "    .dataframe thead th {\n",
              "        text-align: right;\n",
              "    }\n",
              "</style>\n",
              "<table border=\"1\" class=\"dataframe\">\n",
              "  <thead>\n",
              "    <tr style=\"text-align: right;\">\n",
              "      <th></th>\n",
              "      <th>出表日期</th>\n",
              "      <th>年度</th>\n",
              "      <th>季別</th>\n",
              "      <th>公司代號</th>\n",
              "      <th>公司名稱</th>\n",
              "      <th>產業別</th>\n",
              "      <th>基本每股盈餘(元)</th>\n",
              "      <th>普通股每股面額</th>\n",
              "      <th>營業收入</th>\n",
              "      <th>營業利益</th>\n",
              "      <th>營業外收入及支出</th>\n",
              "      <th>稅後淨利</th>\n",
              "      <th>EPS平均</th>\n",
              "      <th>營業收入平均</th>\n",
              "      <th>稅後淨利平均</th>\n",
              "    </tr>\n",
              "  </thead>\n",
              "  <tbody>\n",
              "    <tr>\n",
              "      <th>0</th>\n",
              "      <td>109/06/07</td>\n",
              "      <td>109</td>\n",
              "      <td>1</td>\n",
              "      <td>1101</td>\n",
              "      <td>台灣水泥股份有限公司</td>\n",
              "      <td>水泥工業</td>\n",
              "      <td>0.55</td>\n",
              "      <td>新台幣                 10.0000元</td>\n",
              "      <td>21976200.0</td>\n",
              "      <td>4460154.00</td>\n",
              "      <td>273722.00</td>\n",
              "      <td>3481119.0</td>\n",
              "      <td>0.420000</td>\n",
              "      <td>1.693818e+07</td>\n",
              "      <td>1.990938e+06</td>\n",
              "    </tr>\n",
              "    <tr>\n",
              "      <th>21</th>\n",
              "      <td>109/06/07</td>\n",
              "      <td>109</td>\n",
              "      <td>1</td>\n",
              "      <td>1232</td>\n",
              "      <td>大統益股份有限公司</td>\n",
              "      <td>食品工業</td>\n",
              "      <td>1.66</td>\n",
              "      <td>新台幣                 10.0000元</td>\n",
              "      <td>4073683.0</td>\n",
              "      <td>327369.00</td>\n",
              "      <td>13952.00</td>\n",
              "      <td>273011.0</td>\n",
              "      <td>1.185000</td>\n",
              "      <td>2.305572e+07</td>\n",
              "      <td>1.336852e+06</td>\n",
              "    </tr>\n",
              "    <tr>\n",
              "      <th>32</th>\n",
              "      <td>109/06/07</td>\n",
              "      <td>109</td>\n",
              "      <td>1</td>\n",
              "      <td>1305</td>\n",
              "      <td>華夏海灣塑膠股份有限公司</td>\n",
              "      <td>塑膠工業</td>\n",
              "      <td>0.59</td>\n",
              "      <td>新台幣                 10.0000元</td>\n",
              "      <td>3591214.0</td>\n",
              "      <td>423202.00</td>\n",
              "      <td>22255.00</td>\n",
              "      <td>348704.0</td>\n",
              "      <td>0.512857</td>\n",
              "      <td>3.151970e+07</td>\n",
              "      <td>-4.368920e+05</td>\n",
              "    </tr>\n",
              "    <tr>\n",
              "      <th>41</th>\n",
              "      <td>109/06/07</td>\n",
              "      <td>109</td>\n",
              "      <td>1</td>\n",
              "      <td>1321</td>\n",
              "      <td>大洋塑膠工業股份有限公司</td>\n",
              "      <td>塑膠工業</td>\n",
              "      <td>1.37</td>\n",
              "      <td>新台幣                 10.0000元</td>\n",
              "      <td>1082567.0</td>\n",
              "      <td>-27156.00</td>\n",
              "      <td>-11662.00</td>\n",
              "      <td>302237.0</td>\n",
              "      <td>0.512857</td>\n",
              "      <td>3.151970e+07</td>\n",
              "      <td>-4.368920e+05</td>\n",
              "    </tr>\n",
              "    <tr>\n",
              "      <th>42</th>\n",
              "      <td>109/06/07</td>\n",
              "      <td>109</td>\n",
              "      <td>1</td>\n",
              "      <td>1323</td>\n",
              "      <td>永裕塑膠工業股份有限公司</td>\n",
              "      <td>塑膠工業</td>\n",
              "      <td>0.74</td>\n",
              "      <td>新台幣                 10.0000元</td>\n",
              "      <td>767343.0</td>\n",
              "      <td>108578.00</td>\n",
              "      <td>4784.00</td>\n",
              "      <td>83315.0</td>\n",
              "      <td>0.512857</td>\n",
              "      <td>3.151970e+07</td>\n",
              "      <td>-4.368920e+05</td>\n",
              "    </tr>\n",
              "  </tbody>\n",
              "</table>\n",
              "</div>"
            ],
            "text/plain": [
              "         出表日期   年度  季別  公司代號  ...       稅後淨利     EPS平均        營業收入平均        稅後淨利平均\n",
              "0   109/06/07  109   1  1101  ...  3481119.0  0.420000  1.693818e+07  1.990938e+06\n",
              "21  109/06/07  109   1  1232  ...   273011.0  1.185000  2.305572e+07  1.336852e+06\n",
              "32  109/06/07  109   1  1305  ...   348704.0  0.512857  3.151970e+07 -4.368920e+05\n",
              "41  109/06/07  109   1  1321  ...   302237.0  0.512857  3.151970e+07 -4.368920e+05\n",
              "42  109/06/07  109   1  1323  ...    83315.0  0.512857  3.151970e+07 -4.368920e+05\n",
              "\n",
              "[5 rows x 15 columns]"
            ]
          },
          "metadata": {
            "tags": []
          },
          "execution_count": 35
        }
      ]
    },
    {
      "cell_type": "code",
      "metadata": {
        "id": "gLOfCrvOFL1c",
        "colab_type": "code",
        "colab": {}
      },
      "source": [
        "###列出五個公司(利用EPS、營業收入、稅後淨利來看有哪些公司都高於產業平均)"
      ],
      "execution_count": 0,
      "outputs": []
    },
    {
      "cell_type": "code",
      "metadata": {
        "id": "k7WizvADERTM",
        "colab_type": "code",
        "colab": {
          "base_uri": "https://localhost:8080/",
          "height": 492
        },
        "outputId": "41c01e8c-ea86-4777-8558-9d609cf3141c"
      },
      "source": [
        "df_merge[(df_merge[\"EPS平均\"]<df_merge[\"基本每股盈餘(元)\"])&(df_merge[\"營業收入平均\"]<df_merge[\"營業收入\"])&(df_merge[\"稅後淨利平均\"]<df_merge[\"稅後淨利\"])].head()"
      ],
      "execution_count": 43,
      "outputs": [
        {
          "output_type": "execute_result",
          "data": {
            "text/html": [
              "<div>\n",
              "<style scoped>\n",
              "    .dataframe tbody tr th:only-of-type {\n",
              "        vertical-align: middle;\n",
              "    }\n",
              "\n",
              "    .dataframe tbody tr th {\n",
              "        vertical-align: top;\n",
              "    }\n",
              "\n",
              "    .dataframe thead th {\n",
              "        text-align: right;\n",
              "    }\n",
              "</style>\n",
              "<table border=\"1\" class=\"dataframe\">\n",
              "  <thead>\n",
              "    <tr style=\"text-align: right;\">\n",
              "      <th></th>\n",
              "      <th>出表日期</th>\n",
              "      <th>年度</th>\n",
              "      <th>季別</th>\n",
              "      <th>公司代號</th>\n",
              "      <th>公司名稱</th>\n",
              "      <th>產業別</th>\n",
              "      <th>基本每股盈餘(元)</th>\n",
              "      <th>普通股每股面額</th>\n",
              "      <th>營業收入</th>\n",
              "      <th>營業利益</th>\n",
              "      <th>營業外收入及支出</th>\n",
              "      <th>稅後淨利</th>\n",
              "      <th>EPS平均</th>\n",
              "      <th>營業收入平均</th>\n",
              "      <th>稅後淨利平均</th>\n",
              "    </tr>\n",
              "  </thead>\n",
              "  <tbody>\n",
              "    <tr>\n",
              "      <th>0</th>\n",
              "      <td>109/06/07</td>\n",
              "      <td>109</td>\n",
              "      <td>1</td>\n",
              "      <td>1101</td>\n",
              "      <td>台灣水泥股份有限公司</td>\n",
              "      <td>水泥工業</td>\n",
              "      <td>0.55</td>\n",
              "      <td>新台幣                 10.0000元</td>\n",
              "      <td>21976200.0</td>\n",
              "      <td>4460154.00</td>\n",
              "      <td>273722.00</td>\n",
              "      <td>3481119.0</td>\n",
              "      <td>0.420000</td>\n",
              "      <td>1.693818e+07</td>\n",
              "      <td>1.990938e+06</td>\n",
              "    </tr>\n",
              "    <tr>\n",
              "      <th>118</th>\n",
              "      <td>109/06/07</td>\n",
              "      <td>109</td>\n",
              "      <td>1</td>\n",
              "      <td>2207</td>\n",
              "      <td>和泰汽車股份有限公司</td>\n",
              "      <td>汽車工業</td>\n",
              "      <td>6.35</td>\n",
              "      <td>新台幣                 10.0000元</td>\n",
              "      <td>57437924.0</td>\n",
              "      <td>--</td>\n",
              "      <td>--</td>\n",
              "      <td>4077415.0</td>\n",
              "      <td>1.423125</td>\n",
              "      <td>1.207244e+07</td>\n",
              "      <td>6.516927e+05</td>\n",
              "    </tr>\n",
              "    <tr>\n",
              "      <th>133</th>\n",
              "      <td>109/06/07</td>\n",
              "      <td>109</td>\n",
              "      <td>1</td>\n",
              "      <td>1402</td>\n",
              "      <td>遠東新世紀股份有限公司</td>\n",
              "      <td>紡織纖維</td>\n",
              "      <td>0.30</td>\n",
              "      <td>新台幣                 10.0000元</td>\n",
              "      <td>52236311.0</td>\n",
              "      <td>1731640.00</td>\n",
              "      <td>2159356.00</td>\n",
              "      <td>2883463.0</td>\n",
              "      <td>-0.138000</td>\n",
              "      <td>7.874129e+06</td>\n",
              "      <td>1.557228e+05</td>\n",
              "    </tr>\n",
              "    <tr>\n",
              "      <th>142</th>\n",
              "      <td>109/06/07</td>\n",
              "      <td>109</td>\n",
              "      <td>1</td>\n",
              "      <td>1434</td>\n",
              "      <td>福懋興業股份有限公司</td>\n",
              "      <td>紡織纖維</td>\n",
              "      <td>0.21</td>\n",
              "      <td>新台幣                 10.0000元</td>\n",
              "      <td>8588936.0</td>\n",
              "      <td>371935.00</td>\n",
              "      <td>76392.00</td>\n",
              "      <td>354098.0</td>\n",
              "      <td>-0.138000</td>\n",
              "      <td>7.874129e+06</td>\n",
              "      <td>1.557228e+05</td>\n",
              "    </tr>\n",
              "    <tr>\n",
              "      <th>193</th>\n",
              "      <td>109/06/07</td>\n",
              "      <td>109</td>\n",
              "      <td>1</td>\n",
              "      <td>5871</td>\n",
              "      <td>中租控股股份有限公司</td>\n",
              "      <td>其他</td>\n",
              "      <td>2.95</td>\n",
              "      <td>新台幣                 10.0000元</td>\n",
              "      <td>13942517.0</td>\n",
              "      <td>5417552.00</td>\n",
              "      <td>339380.00</td>\n",
              "      <td>4100047.0</td>\n",
              "      <td>2.254932</td>\n",
              "      <td>8.757610e+06</td>\n",
              "      <td>7.084899e+05</td>\n",
              "    </tr>\n",
              "  </tbody>\n",
              "</table>\n",
              "</div>"
            ],
            "text/plain": [
              "          出表日期   年度  季別  公司代號  ...       稅後淨利     EPS平均        營業收入平均        稅後淨利平均\n",
              "0    109/06/07  109   1  1101  ...  3481119.0  0.420000  1.693818e+07  1.990938e+06\n",
              "118  109/06/07  109   1  2207  ...  4077415.0  1.423125  1.207244e+07  6.516927e+05\n",
              "133  109/06/07  109   1  1402  ...  2883463.0 -0.138000  7.874129e+06  1.557228e+05\n",
              "142  109/06/07  109   1  1434  ...   354098.0 -0.138000  7.874129e+06  1.557228e+05\n",
              "193  109/06/07  109   1  5871  ...  4100047.0  2.254932  8.757610e+06  7.084899e+05\n",
              "\n",
              "[5 rows x 15 columns]"
            ]
          },
          "metadata": {
            "tags": []
          },
          "execution_count": 43
        }
      ]
    },
    {
      "cell_type": "code",
      "metadata": {
        "id": "zSiyZ19OFKXf",
        "colab_type": "code",
        "colab": {}
      },
      "source": [
        ""
      ],
      "execution_count": 0,
      "outputs": []
    }
  ]
}