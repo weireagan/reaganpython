{
  "nbformat": 4,
  "nbformat_minor": 0,
  "metadata": {
    "colab": {
      "name": "隨機產生密碼.ipynb",
      "provenance": [],
      "authorship_tag": "ABX9TyNvTZmuwJsvH7natw/3ranp",
      "include_colab_link": true
    },
    "kernelspec": {
      "name": "python3",
      "display_name": "Python 3"
    }
  },
  "cells": [
    {
      "cell_type": "markdown",
      "metadata": {
        "id": "view-in-github",
        "colab_type": "text"
      },
      "source": [
        "<a href=\"https://colab.research.google.com/github/weireagan/reaganpython/blob/master/%E9%9A%A8%E6%A9%9F%E7%94%A2%E7%94%9F%E5%AF%86%E7%A2%BC.ipynb\" target=\"_parent\"><img src=\"https://colab.research.google.com/assets/colab-badge.svg\" alt=\"Open In Colab\"/></a>"
      ]
    },
    {
      "cell_type": "code",
      "metadata": {
        "id": "3VjIxiMGrF9o",
        "colab_type": "code",
        "colab": {}
      },
      "source": [
        "\n",
        "import random\n",
        "import string\n",
        "password=[]\n"
      ],
      "execution_count": 0,
      "outputs": []
    },
    {
      "cell_type": "code",
      "metadata": {
        "id": "SjsFoLYNrIaX",
        "colab_type": "code",
        "colab": {
          "base_uri": "https://localhost:8080/",
          "height": 190
        },
        "outputId": "a9cbb35f-8513-48c1-d148-359abf2bbbbd"
      },
      "source": [
        "while True:\n",
        "    password=[]\n",
        "    try:\n",
        "        a=int(input(\"你需要的密碼長度？\"))\n",
        "        if a==0:\n",
        "            print('密碼長度需大於0')\n",
        "            break\n",
        "        else:\n",
        "            for i in range(a):\n",
        "                word = random.choice(string.ascii_letters + string.digits)\n",
        "                password.append(word)\n",
        "                result = \"\".join(password)\n",
        "            print(\"你的密碼設定為\",result)\n",
        "\n",
        "    except:\n",
        "        print('請輸入整數')"
      ],
      "execution_count": 2,
      "outputs": [
        {
          "output_type": "stream",
          "text": [
            "你需要的密碼長度？6\n",
            "你的密碼設定為 IMhgBl\n",
            "你需要的密碼長度？4\n",
            "你的密碼設定為 mKyd\n",
            "你需要的密碼長度？8\n",
            "你的密碼設定為 hLdB549x\n",
            "你需要的密碼長度？12\n",
            "你的密碼設定為 drggiUEWV3IJ\n",
            "你需要的密碼長度？0\n",
            "密碼長度需大於0\n"
          ],
          "name": "stdout"
        }
      ]
    },
    {
      "cell_type": "code",
      "metadata": {
        "id": "loHTcF4ErekR",
        "colab_type": "code",
        "colab": {}
      },
      "source": [
        ""
      ],
      "execution_count": 0,
      "outputs": []
    }
  ]
}