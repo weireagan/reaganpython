{
  "nbformat": 4,
  "nbformat_minor": 0,
  "metadata": {
    "colab": {
      "name": "Untitled9.ipynb",
      "provenance": [],
      "authorship_tag": "ABX9TyMPqK7datUQuSNtAEnLCdT9",
      "include_colab_link": true
    },
    "kernelspec": {
      "name": "python3",
      "display_name": "Python 3"
    }
  },
  "cells": [
    {
      "cell_type": "markdown",
      "metadata": {
        "id": "view-in-github",
        "colab_type": "text"
      },
      "source": [
        "<a href=\"https://colab.research.google.com/github/weireagan/reaganpython/blob/master/%E6%98%9F%E5%BA%A7%E6%9F%A5%E8%A9%A2%E7%B3%BB%E7%B5%B1.ipynb\" target=\"_parent\"><img src=\"https://colab.research.google.com/assets/colab-badge.svg\" alt=\"Open In Colab\"/></a>"
      ]
    },
    {
      "cell_type": "code",
      "metadata": {
        "id": "c-UXUcs9tH02",
        "colab_type": "code",
        "colab": {
          "base_uri": "https://localhost:8080/",
          "height": 69
        },
        "outputId": "bf269ab6-8db6-4612-fa3f-f347b1be9263"
      },
      "source": [
        "month1 = int(input(\"查詢月份\"))\n",
        "day1 = int(input(\"查詢日期\"))\n",
        "\n",
        "def get_constellation(month, date):\n",
        "    dates = (21, 20, 21, 21, 22, 22, 23, 24, 24, 24, 23, 22)\n",
        "    constellations = (\"摩羯座\", \"水瓶座\", \"雙魚座\", \"牡羊座\", \"金牛座\", \"雙子座\", \"巨蟹座\", \"獅子座\", \"處女座\", \"天秤座\", \"天蝎座\", \"射手座\", \"魔羯座\")\n",
        "    if date < dates[month-1]:\n",
        "        return constellations[month-1]\n",
        "    else:\n",
        "        return constellations[month]\n",
        "\n",
        "print ((get_constellation(month1,day1)))"
      ],
      "execution_count": 2,
      "outputs": [
        {
          "output_type": "stream",
          "text": [
            "查詢月份9\n",
            "查詢日期23\n",
            "處女座\n"
          ],
          "name": "stdout"
        }
      ]
    },
    {
      "cell_type": "code",
      "metadata": {
        "id": "4uu-AC0-tTq8",
        "colab_type": "code",
        "colab": {}
      },
      "source": [
        ""
      ],
      "execution_count": 0,
      "outputs": []
    }
  ]
}