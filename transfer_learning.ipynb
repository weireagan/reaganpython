{
  "nbformat": 4,
  "nbformat_minor": 0,
  "metadata": {
    "colab": {
      "name": "transfer learning.ipynb",
      "provenance": [],
      "authorship_tag": "ABX9TyMz5eqcegAYfhrP1sofRax6",
      "include_colab_link": true
    },
    "kernelspec": {
      "name": "python3",
      "display_name": "Python 3"
    },
    "accelerator": "GPU"
  },
  "cells": [
    {
      "cell_type": "markdown",
      "metadata": {
        "id": "view-in-github",
        "colab_type": "text"
      },
      "source": [
        "<a href=\"https://colab.research.google.com/github/weireagan/reaganpython/blob/master/transfer_learning.ipynb\" target=\"_parent\"><img src=\"https://colab.research.google.com/assets/colab-badge.svg\" alt=\"Open In Colab\"/></a>"
      ]
    },
    {
      "cell_type": "code",
      "metadata": {
        "id": "9ve2PKO9Kgsk",
        "colab_type": "code",
        "colab": {}
      },
      "source": [
        "%tensorflow_version 2.x"
      ],
      "execution_count": 0,
      "outputs": []
    },
    {
      "cell_type": "code",
      "metadata": {
        "id": "4bTKOKyjKiJR",
        "colab_type": "code",
        "colab": {}
      },
      "source": [
        "import matplotlib.pyplot as plt\n",
        "import numpy as np\n",
        "# Layers for FNN\n",
        "from tensorflow.keras.models import Sequential\n",
        "from tensorflow.keras.layers import Dense\n",
        "from tensorflow.keras.layers import Flatten\n",
        "# Layers for CNN\n",
        "from tensorflow.keras.layers import Conv2D, MaxPool2D, GlobalAveragePooling2D\n",
        "from tensorflow.keras.optimizers import Adam\n",
        "# Data Preprocessing\n",
        "from tensorflow.keras import datasets\n",
        "from tensorflow.keras.utils import to_categorical"
      ],
      "execution_count": 0,
      "outputs": []
    },
    {
      "cell_type": "markdown",
      "metadata": {
        "id": "o2UVJt7RLZ7q",
        "colab_type": "text"
      },
      "source": [
        "\n",
        "載入資料集(cifar10)"
      ]
    },
    {
      "cell_type": "code",
      "metadata": {
        "id": "xsaLSwymKxsR",
        "colab_type": "code",
        "colab": {}
      },
      "source": [
        "(x_train, y_train0), (x_test, y_test0) = datasets.cifar10.load_data()"
      ],
      "execution_count": 0,
      "outputs": []
    },
    {
      "cell_type": "code",
      "metadata": {
        "id": "3S_F1ZHbLPHV",
        "colab_type": "code",
        "colab": {}
      },
      "source": [
        "name_list = ['airplane', 'automobile', 'bird', 'cat', 'deer', 'dog', 'frog', 'horse', 'ship', 'truck']\n"
      ],
      "execution_count": 0,
      "outputs": []
    },
    {
      "cell_type": "code",
      "metadata": {
        "id": "KsVxb0i7LsEk",
        "colab_type": "code",
        "colab": {
          "base_uri": "https://localhost:8080/",
          "height": 264
        },
        "outputId": "84dcde8b-c339-45a6-beb0-de8431a50307"
      },
      "source": [
        "idx = np.random.randint(x_train.shape[0])\n",
        "x_sample = x_train[idx]\n",
        "y_sample = y_train0[idx].squeeze()\n",
        "\n",
        "plt.imshow(x_sample)\n",
        "plt.title(name_list[y_sample])\n",
        "plt.axis('off');"
      ],
      "execution_count": 5,
      "outputs": [
        {
          "output_type": "display_data",
          "data": {
            "image/png": "[encoded data removed]",
            "text/plain": [
              "<Figure size 432x288 with 1 Axes>"
            ]
          },
          "metadata": {
            "tags": [],
            "needs_background": "light"
          }
        }
      ]
    },
    {
      "cell_type": "code",
      "metadata": {
        "id": "GmIrQKDKLzRZ",
        "colab_type": "code",
        "colab": {}
      },
      "source": [
        "x_train = x_train / x_train.max()\n",
        "x_test = x_test / x_test.max()\n",
        "\n",
        "y_train = to_categorical(y_train0, 10)\n",
        "y_test = to_categorical(y_test0, 10)"
      ],
      "execution_count": 0,
      "outputs": []
    },
    {
      "cell_type": "code",
      "metadata": {
        "id": "FME2glMOMJnY",
        "colab_type": "code",
        "colab": {}
      },
      "source": [
        "CF_CNN_layers_10 = [Conv2D(16, (3, 3), input_shape=(16, 32, 3), padding='same', activation='relu'),\n",
        "           MaxPool2D(),\n",
        "           Conv2D(32, (3, 3), padding='same', activation='relu'),\n",
        "           MaxPool2D(),\n",
        "           Conv2D(64, (3, 3), padding='same', activation='relu'),\n",
        "           GlobalAveragePooling2D()]\n",
        " "
      ],
      "execution_count": 0,
      "outputs": []
    },
    {
      "cell_type": "code",
      "metadata": {
        "id": "lLyVTHKkMM8b",
        "colab_type": "code",
        "colab": {}
      },
      "source": [
        "FC_layers = [Dense(units=256, activation='relu'),\n",
        "       Dense(units=10, activation='softmax')]"
      ],
      "execution_count": 0,
      "outputs": []
    },
    {
      "cell_type": "code",
      "metadata": {
        "id": "l1gP7bxRMta9",
        "colab_type": "code",
        "colab": {
          "base_uri": "https://localhost:8080/",
          "height": 432
        },
        "outputId": "3b7b35f0-3e20-482c-c977-4961499679ba"
      },
      "source": [
        "model = Sequential(CF_CNN_layers_10+FC_layers)\n",
        "model.summary()"
      ],
      "execution_count": 52,
      "outputs": [
        {
          "output_type": "stream",
          "text": [
            "Model: \"sequential_4\"\n",
            "_________________________________________________________________\n",
            "Layer (type)                 Output Shape              Param #   \n",
            "=================================================================\n",
            "conv2d_12 (Conv2D)           (None, 16, 32, 16)        448       \n",
            "_________________________________________________________________\n",
            "max_pooling2d_8 (MaxPooling2 (None, 8, 16, 16)         0         \n",
            "_________________________________________________________________\n",
            "conv2d_13 (Conv2D)           (None, 8, 16, 32)         4640      \n",
            "_________________________________________________________________\n",
            "max_pooling2d_9 (MaxPooling2 (None, 4, 8, 32)          0         \n",
            "_________________________________________________________________\n",
            "conv2d_14 (Conv2D)           (None, 4, 8, 64)          18496     \n",
            "_________________________________________________________________\n",
            "global_average_pooling2d_4 ( (None, 64)                0         \n",
            "_________________________________________________________________\n",
            "dense_22 (Dense)             (None, 256)               16640     \n",
            "_________________________________________________________________\n",
            "dense_23 (Dense)             (None, 10)                2570      \n",
            "=================================================================\n",
            "Total params: 42,794\n",
            "Trainable params: 42,794\n",
            "Non-trainable params: 0\n",
            "_________________________________________________________________\n"
          ],
          "name": "stdout"
        }
      ]
    },
    {
      "cell_type": "markdown",
      "metadata": {
        "id": "WqT7CuLkOdzb",
        "colab_type": "text"
      },
      "source": [
        "修改部分: 將optimizer改用ADAM，並將learning rate設定為0.04。\n",
        "\n",
        "再將batch_size下修至128，訓練10次。"
      ]
    },
    {
      "cell_type": "code",
      "metadata": {
        "id": "586f8exJMz6L",
        "colab_type": "code",
        "colab": {}
      },
      "source": [
        "model.compile(loss='categorical_crossentropy', \n",
        "              optimizer=Adam(lr=0.05),\n",
        "              metrics=['categorical_accuracy'])"
      ],
      "execution_count": 0,
      "outputs": []
    },
    {
      "cell_type": "code",
      "metadata": {
        "id": "B5axK9WlN_dG",
        "colab_type": "code",
        "colab": {
          "base_uri": "https://localhost:8080/",
          "height": 452
        },
        "outputId": "81f0628c-5749-49eb-c8ce-9707ccb2427a"
      },
      "source": [
        "model.fit(x_train, y_train, batch_size=128, epochs=10,validation_data=(x_test, y_test))"
      ],
      "execution_count": 54,
      "outputs": [
        {
          "output_type": "stream",
          "text": [
            "Epoch 1/10\n",
            "WARNING:tensorflow:Model was constructed with shape (None, 16, 32, 3) for input Tensor(\"conv2d_12_input:0\", shape=(None, 16, 32, 3), dtype=float32), but it was called on an input with incompatible shape (None, 32, 32, 3).\n",
            "WARNING:tensorflow:Model was constructed with shape (None, 16, 32, 3) for input Tensor(\"conv2d_12_input:0\", shape=(None, 16, 32, 3), dtype=float32), but it was called on an input with incompatible shape (None, 32, 32, 3).\n",
            "390/391 [============================>.] - ETA: 0s - loss: 2.4309 - categorical_accuracy: 0.1030WARNING:tensorflow:Model was constructed with shape (None, 16, 32, 3) for input Tensor(\"conv2d_12_input:0\", shape=(None, 16, 32, 3), dtype=float32), but it was called on an input with incompatible shape (None, 32, 32, 3).\n",
            "391/391 [==============================] - 4s 11ms/step - loss: 2.4307 - categorical_accuracy: 0.1029 - val_loss: 2.3056 - val_categorical_accuracy: 0.1000\n",
            "Epoch 2/10\n",
            "391/391 [==============================] - 4s 10ms/step - loss: 2.3056 - categorical_accuracy: 0.1001 - val_loss: 2.3058 - val_categorical_accuracy: 0.1000\n",
            "Epoch 3/10\n",
            "391/391 [==============================] - 4s 10ms/step - loss: 2.3059 - categorical_accuracy: 0.1007 - val_loss: 2.3054 - val_categorical_accuracy: 0.1000\n",
            "Epoch 4/10\n",
            "391/391 [==============================] - 4s 10ms/step - loss: 2.3056 - categorical_accuracy: 0.1022 - val_loss: 2.3049 - val_categorical_accuracy: 0.1000\n",
            "Epoch 5/10\n",
            "391/391 [==============================] - 4s 10ms/step - loss: 2.3060 - categorical_accuracy: 0.0985 - val_loss: 2.3040 - val_categorical_accuracy: 0.1000\n",
            "Epoch 6/10\n",
            "391/391 [==============================] - 4s 10ms/step - loss: 2.3061 - categorical_accuracy: 0.0999 - val_loss: 2.3049 - val_categorical_accuracy: 0.1000\n",
            "Epoch 7/10\n",
            "391/391 [==============================] - 4s 10ms/step - loss: 2.3058 - categorical_accuracy: 0.1002 - val_loss: 2.3057 - val_categorical_accuracy: 0.1000\n",
            "Epoch 8/10\n",
            "391/391 [==============================] - 4s 10ms/step - loss: 2.3061 - categorical_accuracy: 0.0982 - val_loss: 2.3051 - val_categorical_accuracy: 0.1000\n",
            "Epoch 9/10\n",
            "391/391 [==============================] - 4s 10ms/step - loss: 2.3060 - categorical_accuracy: 0.0999 - val_loss: 2.3054 - val_categorical_accuracy: 0.1000\n",
            "Epoch 10/10\n",
            "391/391 [==============================] - 4s 10ms/step - loss: 2.3061 - categorical_accuracy: 0.0980 - val_loss: 2.3069 - val_categorical_accuracy: 0.1000\n"
          ],
          "name": "stdout"
        },
        {
          "output_type": "execute_result",
          "data": {
            "text/plain": [
              "<tensorflow.python.keras.callbacks.History at 0x7fa2f9399518>"
            ]
          },
          "metadata": {
            "tags": []
          },
          "execution_count": 54
        }
      ]
    },
    {
      "cell_type": "markdown",
      "metadata": {
        "id": "s5ORCNBkOsvg",
        "colab_type": "text"
      },
      "source": [
        "建立B資料集 - CIFAR100的神經網路架構\n",
        "和A資料集借用卷積層的權重，新增CIFAR100自己的全連接層。 修改項目: 隱藏層增至3層，神經元分別修改為128, 128, 512。"
      ]
    },
    {
      "cell_type": "code",
      "metadata": {
        "id": "m3oUdZ4JOJrs",
        "colab_type": "code",
        "colab": {}
      },
      "source": [
        "# 讀取資料\n",
        "(U_train, v_train0), (U_test, v_test0) = datasets.cifar100.load_data()\n",
        "\n",
        "# 將資料標準化\n",
        "U_train = U_train / U_train.max()\n",
        "U_test = U_test / U_test.max()\n",
        "\n",
        "# One-hot encoding\n",
        "v_train = to_categorical(v_train0, 100)\n",
        "v_test = to_categorical(v_test0, 100)"
      ],
      "execution_count": 0,
      "outputs": []
    },
    {
      "cell_type": "code",
      "metadata": {
        "id": "V3XQUn_9O27E",
        "colab_type": "code",
        "colab": {}
      },
      "source": [
        "FC_layers_CF100 = [Dense(units=128, activation='relu'),\n",
        "                   Dense(units=128, activation='relu'),\n",
        "                   Dense(units=512, activation='relu'),\n",
        "                   Dense(units=100, activation='softmax')]"
      ],
      "execution_count": 0,
      "outputs": []
    },
    {
      "cell_type": "code",
      "metadata": {
        "id": "WqFj4bYwO729",
        "colab_type": "code",
        "colab": {
          "base_uri": "https://localhost:8080/",
          "height": 501
        },
        "outputId": "02df731c-5a52-4b10-8fc0-14332a0f0472"
      },
      "source": [
        "new_model = Sequential(CF_CNN_layers_10+FC_layers_CF100)\n",
        "new_model.summary()"
      ],
      "execution_count": 46,
      "outputs": [
        {
          "output_type": "stream",
          "text": [
            "Model: \"sequential_3\"\n",
            "_________________________________________________________________\n",
            "Layer (type)                 Output Shape              Param #   \n",
            "=================================================================\n",
            "conv2d_9 (Conv2D)            (None, 64, 32, 64)        1792      \n",
            "_________________________________________________________________\n",
            "max_pooling2d_6 (MaxPooling2 (None, 32, 16, 64)        0         \n",
            "_________________________________________________________________\n",
            "conv2d_10 (Conv2D)           (None, 32, 16, 64)        36928     \n",
            "_________________________________________________________________\n",
            "max_pooling2d_7 (MaxPooling2 (None, 16, 8, 64)         0         \n",
            "_________________________________________________________________\n",
            "conv2d_11 (Conv2D)           (None, 16, 8, 128)        73856     \n",
            "_________________________________________________________________\n",
            "global_average_pooling2d_3 ( (None, 128)               0         \n",
            "_________________________________________________________________\n",
            "dense_18 (Dense)             (None, 128)               16512     \n",
            "_________________________________________________________________\n",
            "dense_19 (Dense)             (None, 128)               16512     \n",
            "_________________________________________________________________\n",
            "dense_20 (Dense)             (None, 512)               66048     \n",
            "_________________________________________________________________\n",
            "dense_21 (Dense)             (None, 100)               51300     \n",
            "=================================================================\n",
            "Total params: 262,948\n",
            "Trainable params: 262,948\n",
            "Non-trainable params: 0\n",
            "_________________________________________________________________\n"
          ],
          "name": "stdout"
        }
      ]
    },
    {
      "cell_type": "code",
      "metadata": {
        "id": "bIBFSDpiPa5M",
        "colab_type": "code",
        "colab": {}
      },
      "source": [
        "for layer in CF_CNN_layers_10:\n",
        "    layer.trainable = False"
      ],
      "execution_count": 0,
      "outputs": []
    },
    {
      "cell_type": "code",
      "metadata": {
        "id": "ZPzWezHdPtXX",
        "colab_type": "code",
        "colab": {
          "base_uri": "https://localhost:8080/",
          "height": 501
        },
        "outputId": "40dcd7d3-4751-421f-ec31-bcebb764b903"
      },
      "source": [
        "new_model.summary()"
      ],
      "execution_count": 48,
      "outputs": [
        {
          "output_type": "stream",
          "text": [
            "Model: \"sequential_3\"\n",
            "_________________________________________________________________\n",
            "Layer (type)                 Output Shape              Param #   \n",
            "=================================================================\n",
            "conv2d_9 (Conv2D)            (None, 64, 32, 64)        1792      \n",
            "_________________________________________________________________\n",
            "max_pooling2d_6 (MaxPooling2 (None, 32, 16, 64)        0         \n",
            "_________________________________________________________________\n",
            "conv2d_10 (Conv2D)           (None, 32, 16, 64)        36928     \n",
            "_________________________________________________________________\n",
            "max_pooling2d_7 (MaxPooling2 (None, 16, 8, 64)         0         \n",
            "_________________________________________________________________\n",
            "conv2d_11 (Conv2D)           (None, 16, 8, 128)        73856     \n",
            "_________________________________________________________________\n",
            "global_average_pooling2d_3 ( (None, 128)               0         \n",
            "_________________________________________________________________\n",
            "dense_18 (Dense)             (None, 128)               16512     \n",
            "_________________________________________________________________\n",
            "dense_19 (Dense)             (None, 128)               16512     \n",
            "_________________________________________________________________\n",
            "dense_20 (Dense)             (None, 512)               66048     \n",
            "_________________________________________________________________\n",
            "dense_21 (Dense)             (None, 100)               51300     \n",
            "=================================================================\n",
            "Total params: 262,948\n",
            "Trainable params: 150,372\n",
            "Non-trainable params: 112,576\n",
            "_________________________________________________________________\n"
          ],
          "name": "stdout"
        }
      ]
    },
    {
      "cell_type": "code",
      "metadata": {
        "id": "A47Hjnd3PwXO",
        "colab_type": "code",
        "colab": {
          "base_uri": "https://localhost:8080/",
          "height": 452
        },
        "outputId": "f0b5d662-d25e-4185-f840-b28ae495d9c4"
      },
      "source": [
        "new_model.compile(loss='categorical_crossentropy', \n",
        "                    optimizer=Adam(lr=0.04),\n",
        "                    metrics=['categorical_accuracy'])\n",
        "new_model.fit(U_train, v_train,\n",
        "                batch_size=150, \n",
        "                epochs=10,\n",
        "                validation_data=(U_test, v_test)\n",
        "                )"
      ],
      "execution_count": 49,
      "outputs": [
        {
          "output_type": "stream",
          "text": [
            "Epoch 1/10\n",
            "WARNING:tensorflow:Model was constructed with shape (None, 64, 32, 3) for input Tensor(\"conv2d_9_input_1:0\", shape=(None, 64, 32, 3), dtype=float32), but it was called on an input with incompatible shape (None, 32, 32, 3).\n",
            "WARNING:tensorflow:Model was constructed with shape (None, 64, 32, 3) for input Tensor(\"conv2d_9_input_1:0\", shape=(None, 64, 32, 3), dtype=float32), but it was called on an input with incompatible shape (None, 32, 32, 3).\n",
            "334/334 [==============================] - ETA: 0s - loss: 4.6144 - categorical_accuracy: 0.0095WARNING:tensorflow:Model was constructed with shape (None, 64, 32, 3) for input Tensor(\"conv2d_9_input_1:0\", shape=(None, 64, 32, 3), dtype=float32), but it was called on an input with incompatible shape (None, 32, 32, 3).\n",
            "334/334 [==============================] - 4s 13ms/step - loss: 4.6144 - categorical_accuracy: 0.0095 - val_loss: 4.6112 - val_categorical_accuracy: 0.0100\n",
            "Epoch 2/10\n",
            "334/334 [==============================] - 4s 12ms/step - loss: 4.6141 - categorical_accuracy: 0.0093 - val_loss: 4.6130 - val_categorical_accuracy: 0.0100\n",
            "Epoch 3/10\n",
            "334/334 [==============================] - 4s 11ms/step - loss: 4.6139 - categorical_accuracy: 0.0090 - val_loss: 4.6141 - val_categorical_accuracy: 0.0100\n",
            "Epoch 4/10\n",
            "334/334 [==============================] - 4s 12ms/step - loss: 4.6141 - categorical_accuracy: 0.0104 - val_loss: 4.6118 - val_categorical_accuracy: 0.0100\n",
            "Epoch 5/10\n",
            "334/334 [==============================] - 4s 12ms/step - loss: 4.6140 - categorical_accuracy: 0.0102 - val_loss: 4.6132 - val_categorical_accuracy: 0.0100\n",
            "Epoch 6/10\n",
            "334/334 [==============================] - 4s 11ms/step - loss: 4.6143 - categorical_accuracy: 0.0096 - val_loss: 4.6135 - val_categorical_accuracy: 0.0100\n",
            "Epoch 7/10\n",
            "334/334 [==============================] - 4s 12ms/step - loss: 4.6141 - categorical_accuracy: 0.0098 - val_loss: 4.6112 - val_categorical_accuracy: 0.0100\n",
            "Epoch 8/10\n",
            "334/334 [==============================] - 4s 12ms/step - loss: 4.6143 - categorical_accuracy: 0.0093 - val_loss: 4.6120 - val_categorical_accuracy: 0.0100\n",
            "Epoch 9/10\n",
            "334/334 [==============================] - 4s 12ms/step - loss: 4.6147 - categorical_accuracy: 0.0102 - val_loss: 4.6108 - val_categorical_accuracy: 0.0100\n",
            "Epoch 10/10\n",
            "334/334 [==============================] - 4s 12ms/step - loss: 4.6141 - categorical_accuracy: 0.0093 - val_loss: 4.6122 - val_categorical_accuracy: 0.0100\n"
          ],
          "name": "stdout"
        },
        {
          "output_type": "execute_result",
          "data": {
            "text/plain": [
              "<tensorflow.python.keras.callbacks.History at 0x7fa2f95d50f0>"
            ]
          },
          "metadata": {
            "tags": []
          },
          "execution_count": 49
        }
      ]
    },
    {
      "cell_type": "code",
      "metadata": {
        "id": "NyeJGLaQP8Lt",
        "colab_type": "code",
        "colab": {
          "base_uri": "https://localhost:8080/",
          "height": 89
        },
        "outputId": "cd06e4e0-a4e8-4225-b14c-1fcaa42379c2"
      },
      "source": [
        "result = model.predict_classes(U_test)"
      ],
      "execution_count": 36,
      "outputs": [
        {
          "output_type": "stream",
          "text": [
            "WARNING:tensorflow:From <ipython-input-36-f239bc2cf086>:1: Sequential.predict_classes (from tensorflow.python.keras.engine.sequential) is deprecated and will be removed after 2021-01-01.\n",
            "Instructions for updating:\n",
            "Please use instead:* `np.argmax(model.predict(x), axis=-1)`,   if your model does multi-class classification   (e.g. if it uses a `softmax` last-layer activation).* `(model.predict(x) > 0.5).astype(\"int32\")`,   if your model does binary classification   (e.g. if it uses a `sigmoid` last-layer activation).\n"
          ],
          "name": "stdout"
        }
      ]
    },
    {
      "cell_type": "code",
      "metadata": {
        "id": "dubHo18bQbMJ",
        "colab_type": "code",
        "colab": {}
      },
      "source": [
        "def my_predict(n): \n",
        "    print('New Model的預測是：', name_list[result[n]])\n",
        "    X = U_test[n].reshape(32,32,3)\n",
        "    plt.imshow(X)"
      ],
      "execution_count": 0,
      "outputs": []
    },
    {
      "cell_type": "code",
      "metadata": {
        "id": "GNPiW73TQeEn",
        "colab_type": "code",
        "colab": {
          "base_uri": "https://localhost:8080/",
          "height": 283
        },
        "outputId": "d726220c-656d-4710-c707-e0ce18e8d186"
      },
      "source": [
        "my_predict(5055)"
      ],
      "execution_count": 55,
      "outputs": [
        {
          "output_type": "stream",
          "text": [
            "New Model的預測是： bird\n"
          ],
          "name": "stdout"
        },
        {
          "output_type": "display_data",
          "data": {
            "image/png": "[encoded data removed]",
            "text/plain": [
              "<Figure size 432x288 with 1 Axes>"
            ]
          },
          "metadata": {
            "tags": [],
            "needs_background": "light"
          }
        }
      ]
    },
    {
      "cell_type": "code",
      "metadata": {
        "id": "PHE8-e3_QgAY",
        "colab_type": "code",
        "colab": {}
      },
      "source": [
        "##預測的結果很差 "
      ],
      "execution_count": 0,
      "outputs": []
    },
    {
      "cell_type": "code",
      "metadata": {
        "id": "ISpNMe7qRuCg",
        "colab_type": "code",
        "colab": {}
      },
      "source": [
        ""
      ],
      "execution_count": 0,
      "outputs": []
    }
  ]
}