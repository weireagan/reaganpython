{
  "nbformat": 4,
  "nbformat_minor": 0,
  "metadata": {
    "colab": {
      "name": "計算圓柱體面積、體積.ipynb",
      "provenance": [],
      "authorship_tag": "ABX9TyMwIlmzmHwuyOhlQ/2gO9CI",
      "include_colab_link": true
    },
    "kernelspec": {
      "name": "python3",
      "display_name": "Python 3"
    }
  },
  "cells": [
    {
      "cell_type": "markdown",
      "metadata": {
        "id": "view-in-github",
        "colab_type": "text"
      },
      "source": [
        "<a href=\"https://colab.research.google.com/github/weireagan/reaganpython/blob/master/%E8%A8%88%E7%AE%97%E5%9C%93%E6%9F%B1%E9%AB%94%E9%9D%A2%E7%A9%8D%E3%80%81%E9%AB%94%E7%A9%8D.ipynb\" target=\"_parent\"><img src=\"https://colab.research.google.com/assets/colab-badge.svg\" alt=\"Open In Colab\"/></a>"
      ]
    },
    {
      "cell_type": "code",
      "metadata": {
        "id": "fQIJO-E4oHJj",
        "colab_type": "code",
        "colab": {}
      },
      "source": [
        "##算圓柱體面積和體積"
      ],
      "execution_count": 0,
      "outputs": []
    },
    {
      "cell_type": "code",
      "metadata": {
        "id": "Dn6L4uqWmNUr",
        "colab_type": "code",
        "colab": {}
      },
      "source": [
        "class Cylinder:\n",
        "    pi = 3.14\n",
        "    def __init__(self,height=1,radius=1):\n",
        "        self.height = height\n",
        "        self.radius = radius\n",
        "        \n",
        "    def volume(self):\n",
        "        return self.radius*self.radius*self.height*Cylinder.pi\n",
        "    \n",
        "    def surface_area(self):\n",
        "        return self.radius*self.radius*Cylinder.pi*2 + 2*self.radius*self.height*Cylinder.pi"
      ],
      "execution_count": 0,
      "outputs": []
    },
    {
      "cell_type": "code",
      "metadata": {
        "id": "Dd3HNtdJnHp6",
        "colab_type": "code",
        "colab": {}
      },
      "source": [
        ""
      ],
      "execution_count": 0,
      "outputs": []
    }
  ]
}