{
  "nbformat": 4,
  "nbformat_minor": 0,
  "metadata": {
    "colab": {
      "name": "神經網路.ipynb",
      "provenance": [],
      "collapsed_sections": [],
      "authorship_tag": "ABX9TyN3dnvGoB+vB/4D+K8vpPdO",
      "include_colab_link": true
    },
    "kernelspec": {
      "name": "python3",
      "display_name": "Python 3"
    },
    "accelerator": "GPU"
  },
  "cells": [
    {
      "cell_type": "markdown",
      "metadata": {
        "id": "view-in-github",
        "colab_type": "text"
      },
      "source": [
        "<a href=\"https://colab.research.google.com/github/weireagan/reaganpython/blob/master/%E7%A5%9E%E7%B6%93%E7%B6%B2%E8%B7%AF4/14.ipynb\" target=\"_parent\"><img src=\"https://colab.research.google.com/assets/colab-badge.svg\" alt=\"Open In Colab\"/></a>"
      ]
    },
    {
      "cell_type": "code",
      "metadata": {
        "id": "vsEkdoYi1VDI",
        "colab_type": "code",
        "outputId": "55e7f99a-c6f0-4699-bf13-d70ee4c49049",
        "colab": {
          "base_uri": "https://localhost:8080/",
          "height": 84
        }
      },
      "source": [
        "%tensorflow_version"
      ],
      "execution_count": 3,
      "outputs": [
        {
          "output_type": "stream",
          "text": [
            "Currently selected TF version: 2.x\n",
            "Available versions:\n",
            "* 1.x\n",
            "* 2.x\n"
          ],
          "name": "stdout"
        }
      ]
    },
    {
      "cell_type": "code",
      "metadata": {
        "id": "rujII8Fr1ikk",
        "colab_type": "code",
        "outputId": "d7b03d60-2a8f-48b6-feed-e1894879e211",
        "colab": {
          "base_uri": "https://localhost:8080/",
          "height": 101
        }
      },
      "source": [
        "%tensorflow_version 2. x"
      ],
      "execution_count": 4,
      "outputs": [
        {
          "output_type": "stream",
          "text": [
            "`%tensorflow_version` only switches the major version: 1.x or 2.x.\n",
            "You set: `2. x`. This will be interpreted as: `2.x`.\n",
            "\n",
            "\n",
            "TensorFlow 2.x selected.\n"
          ],
          "name": "stdout"
        }
      ]
    },
    {
      "cell_type": "code",
      "metadata": {
        "id": "rrDZbpqs11ot",
        "colab_type": "code",
        "colab": {}
      },
      "source": [
        "%matplotlib inline\n",
        "\n",
        "import numpy as np\n",
        "import matplotlib.pyplot as plt"
      ],
      "execution_count": 0,
      "outputs": []
    },
    {
      "cell_type": "code",
      "metadata": {
        "id": "ofHTo5vr2Env",
        "colab_type": "code",
        "colab": {}
      },
      "source": [
        "import tensorflow as tf"
      ],
      "execution_count": 0,
      "outputs": []
    },
    {
      "cell_type": "code",
      "metadata": {
        "id": "U6AUD9Gw2Gv0",
        "colab_type": "code",
        "colab": {}
      },
      "source": [
        "from tensorflow.keras.datasets import fashion_mnist"
      ],
      "execution_count": 0,
      "outputs": []
    },
    {
      "cell_type": "code",
      "metadata": {
        "id": "XYhYjVTt2P4h",
        "colab_type": "code",
        "outputId": "f9f8a15b-08cf-4a7f-9df0-9a31706f1b95",
        "colab": {
          "base_uri": "https://localhost:8080/",
          "height": 151
        }
      },
      "source": [
        "(x_train, y_train), (x_test, y_test) = fashion_mnist.load_data()"
      ],
      "execution_count": 8,
      "outputs": [
        {
          "output_type": "stream",
          "text": [
            "Downloading data from https://storage.googleapis.com/tensorflow/tf-keras-datasets/train-labels-idx1-ubyte.gz\n",
            "32768/29515 [=================================] - 0s 0us/step\n",
            "Downloading data from https://storage.googleapis.com/tensorflow/tf-keras-datasets/train-images-idx3-ubyte.gz\n",
            "26427392/26421880 [==============================] - 0s 0us/step\n",
            "Downloading data from https://storage.googleapis.com/tensorflow/tf-keras-datasets/t10k-labels-idx1-ubyte.gz\n",
            "8192/5148 [===============================================] - 0s 0us/step\n",
            "Downloading data from https://storage.googleapis.com/tensorflow/tf-keras-datasets/t10k-images-idx3-ubyte.gz\n",
            "4423680/4422102 [==============================] - 0s 0us/step\n"
          ],
          "name": "stdout"
        }
      ]
    },
    {
      "cell_type": "code",
      "metadata": {
        "id": "Nt28TLI72R72",
        "colab_type": "code",
        "colab": {}
      },
      "source": [
        "class_names = ['T-shirt/top', 'Trouser', 'Pullover', 'Dress', 'Coat',\n",
        "               'Sandal', 'Shirt', 'Sneaker', 'Bag', 'Ankle boot']"
      ],
      "execution_count": 0,
      "outputs": []
    },
    {
      "cell_type": "code",
      "metadata": {
        "id": "XA1T-2-t2UlB",
        "colab_type": "code",
        "outputId": "0a93de0e-7c36-455e-df51-4563fe83a2bc",
        "colab": {
          "base_uri": "https://localhost:8080/",
          "height": 282
        }
      },
      "source": [
        "n = 59\n",
        "print('這是', class_names[y_train[n]])\n",
        "plt.imshow(x_train[n], cmap='Greys');"
      ],
      "execution_count": 10,
      "outputs": [
        {
          "output_type": "stream",
          "text": [
            "這是 Dress\n"
          ],
          "name": "stdout"
        },
        {
          "output_type": "display_data",
          "data": {
            "image/png": "[encoded data removed]",
            "text/plain": [
              "<Figure size 432x288 with 1 Axes>"
            ]
          },
          "metadata": {
            "tags": [],
            "needs_background": "light"
          }
        }
      ]
    },
    {
      "cell_type": "code",
      "metadata": {
        "id": "zV8_gnh32W0N",
        "colab_type": "code",
        "outputId": "9e3a02b9-ec3a-44a0-d6ee-13ea8aeff7dd",
        "colab": {
          "base_uri": "https://localhost:8080/",
          "height": 77
        }
      },
      "source": [
        "pick = np.random.choice(60000, 10, replace=False)\n",
        "\n",
        "for i in range(10):\n",
        "    n = pick[i]\n",
        "    ax = plt.subplot(1,10,i+1)\n",
        "    ax.set_xticks([])\n",
        "    ax.set_yticks([])\n",
        "    ax.set_title(class_names[y_train[n]], fontsize=10)\n",
        "    plt.imshow(x_train[n], cmap='Greys') "
      ],
      "execution_count": 11,
      "outputs": [
        {
          "output_type": "display_data",
          "data": {
            "image/png": "[encoded data removed]",
            "text/plain": [
              "<Figure size 432x288 with 10 Axes>"
            ]
          },
          "metadata": {
            "tags": []
          }
        }
      ]
    },
    {
      "cell_type": "code",
      "metadata": {
        "id": "ngsRQUT12mUk",
        "colab_type": "code",
        "outputId": "023056bd-7717-46a3-f8a1-e33bf9a90a46",
        "colab": {
          "base_uri": "https://localhost:8080/",
          "height": 34
        }
      },
      "source": [
        "x_train.shape"
      ],
      "execution_count": 12,
      "outputs": [
        {
          "output_type": "execute_result",
          "data": {
            "text/plain": [
              "(60000, 28, 28)"
            ]
          },
          "metadata": {
            "tags": []
          },
          "execution_count": 12
        }
      ]
    },
    {
      "cell_type": "code",
      "metadata": {
        "id": "wD7iZySZ2ogR",
        "colab_type": "code",
        "outputId": "63915a94-7e00-485f-8bc1-e792d71ea5c7",
        "colab": {
          "base_uri": "https://localhost:8080/",
          "height": 34
        }
      },
      "source": [
        "x_test.shape"
      ],
      "execution_count": 13,
      "outputs": [
        {
          "output_type": "execute_result",
          "data": {
            "text/plain": [
              "(10000, 28, 28)"
            ]
          },
          "metadata": {
            "tags": []
          },
          "execution_count": 13
        }
      ]
    },
    {
      "cell_type": "markdown",
      "metadata": {
        "id": "rFGPhljIIXzN",
        "colab_type": "text"
      },
      "source": [
        "#CNN 要注意一張圖有多少個 channel, 因為只有灰階, 所以只有一個 channel。\n",
        "#因此我們要轉資料格式:(28,28) --> (28, 28, 1)"
      ]
    },
    {
      "cell_type": "code",
      "metadata": {
        "id": "b_ZzhnC82rb7",
        "colab_type": "code",
        "colab": {}
      },
      "source": [
        "x_train = x_train.reshape(60000,28,28,1)/255"
      ],
      "execution_count": 0,
      "outputs": []
    },
    {
      "cell_type": "code",
      "metadata": {
        "id": "jFg3X-z02t5w",
        "colab_type": "code",
        "colab": {}
      },
      "source": [
        "x_test = x_test.reshape(10000,28,28,1)/255"
      ],
      "execution_count": 0,
      "outputs": []
    },
    {
      "cell_type": "code",
      "metadata": {
        "id": "eCmiCmpK2wOy",
        "colab_type": "code",
        "colab": {}
      },
      "source": [
        "from tensorflow.keras.utils import to_categorical"
      ],
      "execution_count": 0,
      "outputs": []
    },
    {
      "cell_type": "code",
      "metadata": {
        "id": "W28XCSHp2zdV",
        "colab_type": "code",
        "colab": {}
      },
      "source": [
        "y_train = to_categorical(y_train, 10)"
      ],
      "execution_count": 0,
      "outputs": []
    },
    {
      "cell_type": "code",
      "metadata": {
        "id": "jjL_VzPU2376",
        "colab_type": "code",
        "colab": {}
      },
      "source": [
        "y_test = to_categorical(y_test, 10)"
      ],
      "execution_count": 0,
      "outputs": []
    },
    {
      "cell_type": "code",
      "metadata": {
        "id": "K1T4QF5g2553",
        "colab_type": "code",
        "outputId": "79bd7303-8b03-4fce-ef4b-fd168da437a2",
        "colab": {
          "base_uri": "https://localhost:8080/",
          "height": 34
        }
      },
      "source": [
        "y_train[n]"
      ],
      "execution_count": 19,
      "outputs": [
        {
          "output_type": "execute_result",
          "data": {
            "text/plain": [
              "array([0., 0., 0., 0., 0., 1., 0., 0., 0., 0.], dtype=float32)"
            ]
          },
          "metadata": {
            "tags": []
          },
          "execution_count": 19
        }
      ]
    },
    {
      "cell_type": "markdown",
      "metadata": {
        "id": "fBozLHm_HpOg",
        "colab_type": "text"
      },
      "source": [
        "\n",
        "#打造CNN函數學習機\n"
      ]
    },
    {
      "cell_type": "code",
      "metadata": {
        "id": "gnfKKU4y278b",
        "colab_type": "code",
        "colab": {}
      },
      "source": [
        "from tensorflow.keras.models import Sequential\n",
        "from tensorflow.keras.layers import Conv2D,MaxPooling2D\n",
        "from tensorflow.keras.layers import Dense,Flatten\n",
        "from tensorflow.keras.optimizers import SGD"
      ],
      "execution_count": 0,
      "outputs": []
    },
    {
      "cell_type": "code",
      "metadata": {
        "id": "RBFAEYEY2-cV",
        "colab_type": "code",
        "colab": {}
      },
      "source": [
        "model = Sequential()"
      ],
      "execution_count": 0,
      "outputs": []
    },
    {
      "cell_type": "code",
      "metadata": {
        "id": "yuBc0Pw93Cp2",
        "colab_type": "code",
        "colab": {}
      },
      "source": [
        "model.add(Conv2D(100,(4,4),padding='same',\n",
        "         input_shape=(28,28,1),\n",
        "         activation='relu'))"
      ],
      "execution_count": 0,
      "outputs": []
    },
    {
      "cell_type": "code",
      "metadata": {
        "id": "wvD4g1yg3G2G",
        "colab_type": "code",
        "colab": {}
      },
      "source": [
        "model.add(MaxPooling2D(pool_size=(2,2)))"
      ],
      "execution_count": 0,
      "outputs": []
    },
    {
      "cell_type": "code",
      "metadata": {
        "id": "LFFwZVHL_klS",
        "colab_type": "code",
        "colab": {}
      },
      "source": [
        "model.add(Conv2D(200,(4,4),padding='same',\n",
        "                activation='relu'))"
      ],
      "execution_count": 0,
      "outputs": []
    },
    {
      "cell_type": "code",
      "metadata": {
        "id": "UiK4SNkf_7Ss",
        "colab_type": "code",
        "colab": {}
      },
      "source": [
        "model.add(MaxPooling2D(pool_size=(2,2)))"
      ],
      "execution_count": 0,
      "outputs": []
    },
    {
      "cell_type": "code",
      "metadata": {
        "id": "_qHGsWdV_2E0",
        "colab_type": "code",
        "colab": {}
      },
      "source": [
        "model.add(Conv2D(400,(4,4),padding='same',\n",
        "                activation='relu'))"
      ],
      "execution_count": 0,
      "outputs": []
    },
    {
      "cell_type": "code",
      "metadata": {
        "id": "rw6Mbdlx_2OE",
        "colab_type": "code",
        "colab": {}
      },
      "source": [
        "model.add(MaxPooling2D(pool_size=(2,2)))"
      ],
      "execution_count": 0,
      "outputs": []
    },
    {
      "cell_type": "code",
      "metadata": {
        "id": "lMBhfU_zADZy",
        "colab_type": "code",
        "colab": {}
      },
      "source": [
        "model.add(Flatten())"
      ],
      "execution_count": 0,
      "outputs": []
    },
    {
      "cell_type": "code",
      "metadata": {
        "id": "hnTKfS9oADeW",
        "colab_type": "code",
        "colab": {}
      },
      "source": [
        "model.add(Dense(50,activation='relu'))"
      ],
      "execution_count": 0,
      "outputs": []
    },
    {
      "cell_type": "code",
      "metadata": {
        "id": "TkBUd7OKADk6",
        "colab_type": "code",
        "colab": {}
      },
      "source": [
        "model.add(Dense(100,activation='relu'))"
      ],
      "execution_count": 0,
      "outputs": []
    },
    {
      "cell_type": "code",
      "metadata": {
        "id": "yDtRxjgoADiD",
        "colab_type": "code",
        "colab": {}
      },
      "source": [
        "model.add(Dense(10,activation='softmax'))"
      ],
      "execution_count": 0,
      "outputs": []
    },
    {
      "cell_type": "code",
      "metadata": {
        "id": "0091suI93Npk",
        "colab_type": "code",
        "colab": {}
      },
      "source": [
        "model.compile(loss = 'mse', optimizer = SGD(lr = 0.078), metrics = ['accuracy'])"
      ],
      "execution_count": 0,
      "outputs": []
    },
    {
      "cell_type": "code",
      "metadata": {
        "id": "5xnB-lyc3QHR",
        "colab_type": "code",
        "outputId": "0578805e-9fe1-4c7d-e222-e550e77e1bd0",
        "colab": {
          "base_uri": "https://localhost:8080/",
          "height": 487
        }
      },
      "source": [
        "model.summary()"
      ],
      "execution_count": 33,
      "outputs": [
        {
          "output_type": "stream",
          "text": [
            "Model: \"sequential\"\n",
            "_________________________________________________________________\n",
            "Layer (type)                 Output Shape              Param #   \n",
            "=================================================================\n",
            "conv2d (Conv2D)              (None, 28, 28, 100)       1700      \n",
            "_________________________________________________________________\n",
            "max_pooling2d (MaxPooling2D) (None, 14, 14, 100)       0         \n",
            "_________________________________________________________________\n",
            "conv2d_1 (Conv2D)            (None, 14, 14, 200)       320200    \n",
            "_________________________________________________________________\n",
            "max_pooling2d_1 (MaxPooling2 (None, 7, 7, 200)         0         \n",
            "_________________________________________________________________\n",
            "conv2d_2 (Conv2D)            (None, 7, 7, 400)         1280400   \n",
            "_________________________________________________________________\n",
            "max_pooling2d_2 (MaxPooling2 (None, 3, 3, 400)         0         \n",
            "_________________________________________________________________\n",
            "flatten (Flatten)            (None, 3600)              0         \n",
            "_________________________________________________________________\n",
            "dense (Dense)                (None, 50)                180050    \n",
            "_________________________________________________________________\n",
            "dense_1 (Dense)              (None, 100)               5100      \n",
            "_________________________________________________________________\n",
            "dense_2 (Dense)              (None, 10)                1010      \n",
            "=================================================================\n",
            "Total params: 1,788,460\n",
            "Trainable params: 1,788,460\n",
            "Non-trainable params: 0\n",
            "_________________________________________________________________\n"
          ],
          "name": "stdout"
        }
      ]
    },
    {
      "cell_type": "code",
      "metadata": {
        "colab_type": "code",
        "outputId": "9fa204eb-567f-444c-9b78-78f94a9e7de8",
        "id": "LcAEqIbT-WVD",
        "colab": {
          "base_uri": "https://localhost:8080/",
          "height": 689
        }
      },
      "source": [
        "final=model.fit(x_train, y_train, batch_size = 100, epochs = 20)"
      ],
      "execution_count": 45,
      "outputs": [
        {
          "output_type": "stream",
          "text": [
            "Epoch 1/20\n",
            "600/600 [==============================] - 17s 28ms/step - loss: 0.0200 - accuracy: 0.8623\n",
            "Epoch 2/20\n",
            "600/600 [==============================] - 17s 28ms/step - loss: 0.0196 - accuracy: 0.8664\n",
            "Epoch 3/20\n",
            "600/600 [==============================] - 17s 29ms/step - loss: 0.0192 - accuracy: 0.8693\n",
            "Epoch 4/20\n",
            "600/600 [==============================] - 18s 30ms/step - loss: 0.0189 - accuracy: 0.8702\n",
            "Epoch 5/20\n",
            "600/600 [==============================] - 18s 30ms/step - loss: 0.0186 - accuracy: 0.8735\n",
            "Epoch 6/20\n",
            "600/600 [==============================] - 18s 30ms/step - loss: 0.0183 - accuracy: 0.8755\n",
            "Epoch 7/20\n",
            "600/600 [==============================] - 18s 30ms/step - loss: 0.0179 - accuracy: 0.8778\n",
            "Epoch 8/20\n",
            "600/600 [==============================] - 18s 30ms/step - loss: 0.0176 - accuracy: 0.8802\n",
            "Epoch 9/20\n",
            "600/600 [==============================] - 18s 30ms/step - loss: 0.0174 - accuracy: 0.8822\n",
            "Epoch 10/20\n",
            "600/600 [==============================] - 18s 30ms/step - loss: 0.0171 - accuracy: 0.8839\n",
            "Epoch 11/20\n",
            "600/600 [==============================] - 18s 30ms/step - loss: 0.0169 - accuracy: 0.8861\n",
            "Epoch 12/20\n",
            "600/600 [==============================] - 18s 30ms/step - loss: 0.0167 - accuracy: 0.8873\n",
            "Epoch 13/20\n",
            "600/600 [==============================] - 18s 30ms/step - loss: 0.0165 - accuracy: 0.8888\n",
            "Epoch 14/20\n",
            "600/600 [==============================] - 18s 30ms/step - loss: 0.0162 - accuracy: 0.8899\n",
            "Epoch 15/20\n",
            "600/600 [==============================] - 18s 30ms/step - loss: 0.0161 - accuracy: 0.8914\n",
            "Epoch 16/20\n",
            "600/600 [==============================] - 18s 30ms/step - loss: 0.0159 - accuracy: 0.8931\n",
            "Epoch 17/20\n",
            "600/600 [==============================] - 18s 30ms/step - loss: 0.0156 - accuracy: 0.8951\n",
            "Epoch 18/20\n",
            "600/600 [==============================] - 18s 30ms/step - loss: 0.0155 - accuracy: 0.8956\n",
            "Epoch 19/20\n",
            "600/600 [==============================] - 18s 30ms/step - loss: 0.0153 - accuracy: 0.8976\n",
            "Epoch 20/20\n",
            "600/600 [==============================] - 18s 30ms/step - loss: 0.0151 - accuracy: 0.8979\n"
          ],
          "name": "stdout"
        }
      ]
    },
    {
      "cell_type": "code",
      "metadata": {
        "colab_type": "code",
        "id": "mswHoNdI-W4i",
        "colab": {}
      },
      "source": [
        "result = model.predict_classes(x_test)"
      ],
      "execution_count": 0,
      "outputs": []
    },
    {
      "cell_type": "code",
      "metadata": {
        "colab_type": "code",
        "outputId": "f76046aa-d3aa-4d41-afea-f990ec93a3c8",
        "id": "PQT-oBAT-YYB",
        "colab": {
          "base_uri": "https://localhost:8080/",
          "height": 298
        }
      },
      "source": [
        "n=4\n",
        "print('神經網路預測: ',class_names[result[n]])\n",
        "plt.imshow(x_test[n].reshape(28,28), cmap = 'Greys')"
      ],
      "execution_count": 51,
      "outputs": [
        {
          "output_type": "stream",
          "text": [
            "神經網路預測:  Shirt\n"
          ],
          "name": "stdout"
        },
        {
          "output_type": "execute_result",
          "data": {
            "text/plain": [
              "<matplotlib.image.AxesImage at 0x7f5d3e56f3c8>"
            ]
          },
          "metadata": {
            "tags": []
          },
          "execution_count": 51
        },
        {
          "output_type": "display_data",
          "data": {
            "image/png": "[encoded data removed]",
            "text/plain": [
              "<Figure size 432x288 with 1 Axes>"
            ]
          },
          "metadata": {
            "tags": [],
            "needs_background": "light"
          }
        }
      ]
    },
    {
      "cell_type": "markdown",
      "metadata": {
        "id": "_UfcSwTcHWUa",
        "colab_type": "text"
      },
      "source": [
        "#驗證模型對錯\n",
        "#將顏色改成紅色\n"
      ]
    },
    {
      "cell_type": "code",
      "metadata": {
        "id": "18f9is6P_6li",
        "colab_type": "code",
        "outputId": "9d1c4d72-32e7-45b0-f0de-8be6eff11004",
        "colab": {
          "base_uri": "https://localhost:8080/",
          "height": 315
        }
      },
      "source": [
        "from numpy import argmax\n",
        "result = model.predict_classes(x_test) \n",
        "\n",
        "print('這是', class_names[argmax(y_test[n])])\n",
        "print('神經網路預測是', class_names[result[n]])\n",
        "plt.imshow(x_test[n].reshape(28,28), cmap = 'Reds')"
      ],
      "execution_count": 58,
      "outputs": [
        {
          "output_type": "stream",
          "text": [
            "這是 Shirt\n",
            "神經網路預測是 Shirt\n"
          ],
          "name": "stdout"
        },
        {
          "output_type": "execute_result",
          "data": {
            "text/plain": [
              "<matplotlib.image.AxesImage at 0x7f5d3e36f668>"
            ]
          },
          "metadata": {
            "tags": []
          },
          "execution_count": 58
        },
        {
          "output_type": "display_data",
          "data": {
            "image/png": "[encoded data removed]",
            "text/plain": [
              "<Figure size 432x288 with 1 Axes>"
            ]
          },
          "metadata": {
            "tags": [],
            "needs_background": "light"
          }
        }
      ]
    },
    {
      "cell_type": "markdown",
      "metadata": {
        "id": "SEUahO8BHObb",
        "colab_type": "text"
      },
      "source": [
        "#準確度驗證"
      ]
    },
    {
      "cell_type": "code",
      "metadata": {
        "id": "dvQUGCHtBtbg",
        "colab_type": "code",
        "colab": {
          "base_uri": "https://localhost:8080/",
          "height": 50
        },
        "outputId": "cd8d06fd-3e06-4e6c-abb8-7f9cf8ba3618"
      },
      "source": [
        "score = model.evaluate(x_test, y_test)\n",
        "loss, acc = score\n",
        "print('測試資料的準確度', acc )\n"
      ],
      "execution_count": 53,
      "outputs": [
        {
          "output_type": "stream",
          "text": [
            "313/313 [==============================] - 1s 4ms/step - loss: 0.0171 - accuracy: 0.8848\n",
            "測試資料的準確度 0.8848000168800354\n"
          ],
          "name": "stdout"
        }
      ]
    },
    {
      "cell_type": "markdown",
      "metadata": {
        "id": "PdSYtj-4IB0L",
        "colab_type": "text"
      },
      "source": [
        "#將準確率用圖畫出"
      ]
    },
    {
      "cell_type": "code",
      "metadata": {
        "id": "SammfBIqEt1A",
        "colab_type": "code",
        "colab": {
          "base_uri": "https://localhost:8080/",
          "height": 282
        },
        "outputId": "f7e3f18a-761c-4975-fdb1-183e1ffbf3ac"
      },
      "source": [
        "plt.plot(final.history['accuracy'])"
      ],
      "execution_count": 54,
      "outputs": [
        {
          "output_type": "execute_result",
          "data": {
            "text/plain": [
              "[<matplotlib.lines.Line2D at 0x7f5d3e483fd0>]"
            ]
          },
          "metadata": {
            "tags": []
          },
          "execution_count": 54
        },
        {
          "output_type": "display_data",
          "data": {
            "image/png": "[encoded data removed]",
            "text/plain": [
              "<Figure size 432x288 with 1 Axes>"
            ]
          },
          "metadata": {
            "tags": [],
            "needs_background": "light"
          }
        }
      ]
    },
    {
      "cell_type": "code",
      "metadata": {
        "id": "NzZ1o_vfD5Ua",
        "colab_type": "code",
        "colab": {}
      },
      "source": [
        ""
      ],
      "execution_count": 0,
      "outputs": []
    }
  ]
}