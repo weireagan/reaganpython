{
  "nbformat": 4,
  "nbformat_minor": 0,
  "metadata": {
    "colab": {
      "name": "猜數字遊戲.ipynb",
      "provenance": [],
      "authorship_tag": "ABX9TyOLg7Rocwivv9Du3TQ6cL1y",
      "include_colab_link": true
    },
    "kernelspec": {
      "name": "python3",
      "display_name": "Python 3"
    },
    "accelerator": "GPU"
  },
  "cells": [
    {
      "cell_type": "markdown",
      "metadata": {
        "id": "view-in-github",
        "colab_type": "text"
      },
      "source": [
        "<a href=\"https://colab.research.google.com/github/weireagan/reaganpython/blob/master/%E7%8C%9C%E6%95%B8%E5%AD%97%E9%81%8A%E6%88%B2.ipynb\" target=\"_parent\"><img src=\"https://colab.research.google.com/assets/colab-badge.svg\" alt=\"Open In Colab\"/></a>"
      ]
    },
    {
      "cell_type": "code",
      "metadata": {
        "id": "aCOddLBkHL1S",
        "colab_type": "code",
        "outputId": "18a75a3b-9e52-4007-9a61-e44c024fc910",
        "colab": {
          "base_uri": "https://localhost:8080/",
          "height": 69
        }
      },
      "source": [
        "import random\n",
        "\n",
        "lottery = random.randint(0, 100)\n",
        "guess = eval(input(\"你所選取的數字號碼(0~100) \"))\n",
        "\n",
        "lotteryDigit1 = lottery // 10\n",
        "lotteryDigit2 = lottery % 10\n",
        "\n",
        "guessDigit1 = guess // 10\n",
        "guessDigit2 = guess % 10\n",
        "\n",
        "print(\"樂透大獎的是數字 \", lottery)\n",
        "\n",
        "if guess == lottery:\n",
        "    print(\"兩個號碼順序全中: 恭喜你贏得 $10,000\")\n",
        "elif (guessDigit2 == lotteryDigit1 and guessDigit1 == lotteryDigit2):\n",
        "    print(\"號碼全中，順序不對: 恭喜你贏得 $3,000\")\n",
        "\n",
        "else:\n",
        "    print(\"抱歉, 全數摃龜\")"
      ],
      "execution_count": 2,
      "outputs": [
        {
          "output_type": "stream",
          "text": [
            "你所選取的數字號碼(0~100) 64\n",
            "樂透大獎的是數字  57\n",
            "抱歉, 全數摃龜\n"
          ],
          "name": "stdout"
        }
      ]
    },
    {
      "cell_type": "code",
      "metadata": {
        "id": "Owe39y32HgKR",
        "colab_type": "code",
        "colab": {}
      },
      "source": [
        ""
      ],
      "execution_count": 0,
      "outputs": []
    }
  ]
}