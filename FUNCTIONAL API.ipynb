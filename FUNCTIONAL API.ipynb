{
  "nbformat": 4,
  "nbformat_minor": 0,
  "metadata": {
    "colab": {
      "name": "Untitled12.ipynb",
      "provenance": [],
      "authorship_tag": "ABX9TyPQqtdq4oR4xOxY9X3kGpj9",
      "include_colab_link": true
    },
    "kernelspec": {
      "name": "python3",
      "display_name": "Python 3"
    }
  },
  "cells": [
    {
      "cell_type": "markdown",
      "metadata": {
        "id": "view-in-github",
        "colab_type": "text"
      },
      "source": [
        "<a href=\"https://colab.research.google.com/github/weireagan/reaganpython/blob/master/FUNCTIONAL%20API.ipynb\" target=\"_parent\"><img src=\"https://colab.research.google.com/assets/colab-badge.svg\" alt=\"Open In Colab\"/></a>"
      ]
    },
    {
      "cell_type": "code",
      "metadata": {
        "id": "dBqny4N7T30y",
        "colab_type": "code",
        "colab": {}
      },
      "source": [
        "import matplotlib.pyplot as plt\n",
        "import numpy as np\n",
        "\n",
        "from tensorflow.keras.models import Sequential\n",
        "from tensorflow.keras.layers import Dense\n",
        "from tensorflow.keras.layers import Flatten\n",
        "\n",
        "from tensorflow.keras.layers import Conv2D, MaxPool2D, GlobalAveragePooling2D\n",
        "\n",
        "from tensorflow.keras.optimizers import SGD, Adam\n",
        "\n",
        "from tensorflow.keras import datasets\n",
        "from tensorflow.keras.utils import to_categorical\n",
        "\n",
        "from tensorflow.keras.models import Model\n",
        "from tensorflow.keras.layers import Input"
      ],
      "execution_count": 0,
      "outputs": []
    },
    {
      "cell_type": "code",
      "metadata": {
        "id": "JCdAP7GMU4lY",
        "colab_type": "code",
        "colab": {}
      },
      "source": [
        "(X_train, y_train), (X_test, y_test) = datasets.fashion_mnist.load_data()\n",
        "(X_train, y_train0), (X_test, y_test0) = datasets.fashion_mnist.load_data()\n",
        "\n",
        "X_train = X_train.reshape(-1, 28*28)/ X_train.max()\n",
        "X_test = X_test.reshape(-1, 28*28)/ X_test.max()\n",
        "\n",
        "y_train = to_categorical(y_train0, 10)\n",
        "y_test = to_categorical(y_test0, 10)"
      ],
      "execution_count": 0,
      "outputs": []
    },
    {
      "cell_type": "code",
      "metadata": {
        "id": "QnMbPZiAUCaP",
        "colab_type": "code",
        "colab": {}
      },
      "source": [
        "from tensorflow.keras.layers import concatenate, add"
      ],
      "execution_count": 0,
      "outputs": []
    },
    {
      "cell_type": "code",
      "metadata": {
        "id": "KRW1dgNYVVa3",
        "colab_type": "code",
        "colab": {}
      },
      "source": [
        "x = Input(shape=(784,))"
      ],
      "execution_count": 0,
      "outputs": []
    },
    {
      "cell_type": "code",
      "metadata": {
        "id": "-8nM8kB3Urif",
        "colab_type": "code",
        "colab": {}
      },
      "source": [
        "f_1 = Dense(600, activation='sigmoid')\n",
        "f_2 = Dense(500, activation='sigmoid')\n",
        "f_4 = Dense(300, activation='relu')\n",
        "f_3 = Dense(150, activation='relu')\n",
        "f_5 = Dense(10, activation='softmax')"
      ],
      "execution_count": 0,
      "outputs": []
    },
    {
      "cell_type": "code",
      "metadata": {
        "id": "qLfRKxZnUxz0",
        "colab_type": "code",
        "colab": {}
      },
      "source": [
        "g1 = f_1(x)\n",
        "g2 = f_2(g1)\n",
        "g3 = f_3(g2)\n",
        "z = f_4(g1) ##新增一層分歧\n",
        "t = concatenate([g2, z]) ##將分歧的合併 \n",
        "y = f_5(t)"
      ],
      "execution_count": 0,
      "outputs": []
    },
    {
      "cell_type": "code",
      "metadata": {
        "id": "jmKQ1zPDVbQs",
        "colab_type": "code",
        "colab": {
          "base_uri": "https://localhost:8080/",
          "height": 380
        },
        "outputId": "80c6b652-838c-4e1b-b66a-a52a94078251"
      },
      "source": [
        "model = Model(x, y)\n",
        "model.summary()"
      ],
      "execution_count": 32,
      "outputs": [
        {
          "output_type": "stream",
          "text": [
            "Model: \"model_1\"\n",
            "__________________________________________________________________________________________________\n",
            "Layer (type)                    Output Shape         Param #     Connected to                     \n",
            "==================================================================================================\n",
            "input_2 (InputLayer)            [(None, 784)]        0                                            \n",
            "__________________________________________________________________________________________________\n",
            "dense_10 (Dense)                (None, 600)          471000      input_2[0][0]                    \n",
            "__________________________________________________________________________________________________\n",
            "dense_11 (Dense)                (None, 500)          300500      dense_10[0][0]                   \n",
            "__________________________________________________________________________________________________\n",
            "dense_12 (Dense)                (None, 300)          180300      dense_10[0][0]                   \n",
            "__________________________________________________________________________________________________\n",
            "concatenate_2 (Concatenate)     (None, 800)          0           dense_11[0][0]                   \n",
            "                                                                 dense_12[0][0]                   \n",
            "__________________________________________________________________________________________________\n",
            "dense_14 (Dense)                (None, 10)           8010        concatenate_2[0][0]              \n",
            "==================================================================================================\n",
            "Total params: 959,810\n",
            "Trainable params: 959,810\n",
            "Non-trainable params: 0\n",
            "__________________________________________________________________________________________________\n"
          ],
          "name": "stdout"
        }
      ]
    },
    {
      "cell_type": "code",
      "metadata": {
        "id": "tqNS0DGzVzOr",
        "colab_type": "code",
        "colab": {}
      },
      "source": [
        "model.compile(loss='mae', \n",
        "              optimizer=Adam(), \n",
        "              metrics=['accuracy'])"
      ],
      "execution_count": 0,
      "outputs": []
    },
    {
      "cell_type": "code",
      "metadata": {
        "id": "bOfSOM1sV6Tk",
        "colab_type": "code",
        "colab": {
          "base_uri": "https://localhost:8080/",
          "height": 380
        },
        "outputId": "f7f8e95f-2720-49bd-d516-cf985c9e5754"
      },
      "source": [
        "model.fit(X_train, y_train, \n",
        "          batch_size=648, \n",
        "          epochs=10,\n",
        "          validation_data=(X_test, y_test))"
      ],
      "execution_count": 34,
      "outputs": [
        {
          "output_type": "stream",
          "text": [
            "Epoch 1/10\n",
            "93/93 [==============================] - 7s 70ms/step - loss: 0.1104 - accuracy: 0.4698 - val_loss: 0.0914 - val_accuracy: 0.5502\n",
            "Epoch 2/10\n",
            "93/93 [==============================] - 6s 70ms/step - loss: 0.0898 - accuracy: 0.5565 - val_loss: 0.0889 - val_accuracy: 0.5580\n",
            "Epoch 3/10\n",
            "93/93 [==============================] - 6s 70ms/step - loss: 0.0879 - accuracy: 0.5636 - val_loss: 0.0886 - val_accuracy: 0.5589\n",
            "Epoch 4/10\n",
            "93/93 [==============================] - 6s 70ms/step - loss: 0.0871 - accuracy: 0.5668 - val_loss: 0.0874 - val_accuracy: 0.5648\n",
            "Epoch 5/10\n",
            "93/93 [==============================] - 6s 70ms/step - loss: 0.0817 - accuracy: 0.5944 - val_loss: 0.0699 - val_accuracy: 0.6534\n",
            "Epoch 6/10\n",
            "93/93 [==============================] - 6s 70ms/step - loss: 0.0680 - accuracy: 0.6626 - val_loss: 0.0688 - val_accuracy: 0.6584\n",
            "Epoch 7/10\n",
            "93/93 [==============================] - 6s 70ms/step - loss: 0.0672 - accuracy: 0.6664 - val_loss: 0.0686 - val_accuracy: 0.6580\n",
            "Epoch 8/10\n",
            "93/93 [==============================] - 6s 70ms/step - loss: 0.0669 - accuracy: 0.6672 - val_loss: 0.0675 - val_accuracy: 0.6640\n",
            "Epoch 9/10\n",
            "93/93 [==============================] - 7s 70ms/step - loss: 0.0665 - accuracy: 0.6694 - val_loss: 0.0678 - val_accuracy: 0.6631\n",
            "Epoch 10/10\n",
            "93/93 [==============================] - 6s 70ms/step - loss: 0.0663 - accuracy: 0.6704 - val_loss: 0.0674 - val_accuracy: 0.6644\n"
          ],
          "name": "stdout"
        },
        {
          "output_type": "execute_result",
          "data": {
            "text/plain": [
              "<tensorflow.python.keras.callbacks.History at 0x7fc3c7f59278>"
            ]
          },
          "metadata": {
            "tags": []
          },
          "execution_count": 34
        }
      ]
    },
    {
      "cell_type": "code",
      "metadata": {
        "id": "fQIHZ1H0WAEb",
        "colab_type": "code",
        "colab": {}
      },
      "source": [
        "model.save_weights('MNIST_Model.')"
      ],
      "execution_count": 0,
      "outputs": []
    },
    {
      "cell_type": "code",
      "metadata": {
        "id": "O-CRrM3sXKSJ",
        "colab_type": "code",
        "colab": {
          "base_uri": "https://localhost:8080/",
          "height": 69
        },
        "outputId": "7107f50d-43df-485a-cd2c-744de2921964"
      },
      "source": [
        "score = model.evaluate(X_train, y_train, batch_size=10000)\n",
        "print(f'Loss: {score[0]}')\n",
        "print(f'Accuracy: {score[1]*100}')"
      ],
      "execution_count": 36,
      "outputs": [
        {
          "output_type": "stream",
          "text": [
            "6/6 [==============================] - 2s 272ms/step - loss: 0.0660 - accuracy: 0.6711\n",
            "Loss: 0.06599468737840652\n",
            "Accuracy: 67.10500121116638\n"
          ],
          "name": "stdout"
        }
      ]
    },
    {
      "cell_type": "code",
      "metadata": {
        "id": "jMbdDMk3YjWf",
        "colab_type": "code",
        "colab": {}
      },
      "source": [
        ""
      ],
      "execution_count": 0,
      "outputs": []
    }
  ]
}