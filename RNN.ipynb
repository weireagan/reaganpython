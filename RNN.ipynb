{
  "nbformat": 4,
  "nbformat_minor": 0,
  "metadata": {
    "colab": {
      "name": "Untitled7.ipynb",
      "provenance": [],
      "authorship_tag": "ABX9TyNwrjMUzVKyBcgsB0HLspz/",
      "include_colab_link": true
    },
    "kernelspec": {
      "name": "python3",
      "display_name": "Python 3"
    },
    "accelerator": "GPU"
  },
  "cells": [
    {
      "cell_type": "markdown",
      "metadata": {
        "id": "view-in-github",
        "colab_type": "text"
      },
      "source": [
        "<a href=\"https://colab.research.google.com/github/weireagan/reaganpython/blob/master/RNN.ipynb\" target=\"_parent\"><img src=\"https://colab.research.google.com/assets/colab-badge.svg\" alt=\"Open In Colab\"/></a>"
      ]
    },
    {
      "cell_type": "code",
      "metadata": {
        "id": "sqQPPD86RBT5",
        "colab_type": "code",
        "colab": {}
      },
      "source": [
        "%tensorflow_version 2.x"
      ],
      "execution_count": 0,
      "outputs": []
    },
    {
      "cell_type": "code",
      "metadata": {
        "id": "XuEOkqxsrcse",
        "colab_type": "code",
        "colab": {}
      },
      "source": [
        "##更改的地方\n",
        "###maxlen為200\n",
        "###embedding壓縮為200\n",
        "###LSTM為200、dropout=0.15、recurrent_dropout=0.15\n",
        "###batch_size=32、epochs=10\n"
      ],
      "execution_count": 0,
      "outputs": []
    },
    {
      "cell_type": "code",
      "metadata": {
        "id": "GGrkXZwQRR1G",
        "colab_type": "code",
        "colab": {}
      },
      "source": [
        "%matplotlib inline\n",
        "import numpy as np\n",
        "import matplotlib.pyplot as plt\n",
        "import pandas as pd"
      ],
      "execution_count": 0,
      "outputs": []
    },
    {
      "cell_type": "code",
      "metadata": {
        "id": "BtEUOopaRepe",
        "colab_type": "code",
        "colab": {}
      },
      "source": [
        "from tensorflow.keras.preprocessing import sequence\n",
        "from tensorflow.keras.models import Sequential\n",
        "from tensorflow.keras.layers import Dense, Embedding\n",
        "from tensorflow.keras.layers import LSTM\n",
        "from tensorflow.keras.datasets import imdb"
      ],
      "execution_count": 0,
      "outputs": []
    },
    {
      "cell_type": "code",
      "metadata": {
        "id": "U1Km--Z1RmWt",
        "colab_type": "code",
        "colab": {
          "base_uri": "https://localhost:8080/",
          "height": 52
        },
        "outputId": "f04e32ce-f04c-44e0-ca5d-92ac3d3f4ba3"
      },
      "source": [
        "(x_train, y_train),(x_test, y_test) = imdb.load_data(num_words=10000)"
      ],
      "execution_count": 4,
      "outputs": [
        {
          "output_type": "stream",
          "text": [
            "Downloading data from https://storage.googleapis.com/tensorflow/tf-keras-datasets/imdb.npz\n",
            "17465344/17464789 [==============================] - 1s 0us/step\n"
          ],
          "name": "stdout"
        }
      ]
    },
    {
      "cell_type": "code",
      "metadata": {
        "id": "9g0ty_EQTAG0",
        "colab_type": "code",
        "colab": {}
      },
      "source": [
        "x_train = sequence.pad_sequences(x_train, maxlen=200) \n",
        "x_test = sequence.pad_sequences(x_test, maxlen=200)"
      ],
      "execution_count": 0,
      "outputs": []
    },
    {
      "cell_type": "code",
      "metadata": {
        "id": "uAg4dzG4TT0X",
        "colab_type": "code",
        "colab": {}
      },
      "source": [
        "model = Sequential()"
      ],
      "execution_count": 0,
      "outputs": []
    },
    {
      "cell_type": "code",
      "metadata": {
        "id": "bw_kbrMwTXdL",
        "colab_type": "code",
        "colab": {}
      },
      "source": [
        "model.add(Embedding(10000, 200))"
      ],
      "execution_count": 0,
      "outputs": []
    },
    {
      "cell_type": "code",
      "metadata": {
        "id": "sdg4WCDJTqIy",
        "colab_type": "code",
        "colab": {
          "base_uri": "https://localhost:8080/",
          "height": 54
        },
        "outputId": "49476c1c-e685-4a49-c9f3-5e129b975554"
      },
      "source": [
        "model.add(LSTM(200, dropout=0.15, recurrent_dropout=0.15))"
      ],
      "execution_count": 8,
      "outputs": [
        {
          "output_type": "stream",
          "text": [
            "WARNING:tensorflow:Layer lstm will not use cuDNN kernel since it doesn't meet the cuDNN kernel criteria. It will use generic GPU kernel as fallback when running on GPU\n"
          ],
          "name": "stdout"
        }
      ]
    },
    {
      "cell_type": "code",
      "metadata": {
        "id": "cupDX3JVT2r3",
        "colab_type": "code",
        "colab": {}
      },
      "source": [
        "model.add(Dense(1, activation='sigmoid'))"
      ],
      "execution_count": 0,
      "outputs": []
    },
    {
      "cell_type": "code",
      "metadata": {
        "id": "ztauySXhVKKP",
        "colab_type": "code",
        "colab": {}
      },
      "source": [
        "model.compile(loss='binary_crossentropy',\n",
        "              optimizer='adam',\n",
        "              metrics=['accuracy'])"
      ],
      "execution_count": 0,
      "outputs": []
    },
    {
      "cell_type": "code",
      "metadata": {
        "id": "ps38VrJ9VV_y",
        "colab_type": "code",
        "colab": {
          "base_uri": "https://localhost:8080/",
          "height": 259
        },
        "outputId": "64246775-82be-429a-f394-a8a765a3ab5d"
      },
      "source": [
        "model.summary()"
      ],
      "execution_count": 11,
      "outputs": [
        {
          "output_type": "stream",
          "text": [
            "Model: \"sequential\"\n",
            "_________________________________________________________________\n",
            "Layer (type)                 Output Shape              Param #   \n",
            "=================================================================\n",
            "embedding (Embedding)        (None, None, 200)         2000000   \n",
            "_________________________________________________________________\n",
            "lstm (LSTM)                  (None, 200)               320800    \n",
            "_________________________________________________________________\n",
            "dense (Dense)                (None, 1)                 201       \n",
            "=================================================================\n",
            "Total params: 2,321,001\n",
            "Trainable params: 2,321,001\n",
            "Non-trainable params: 0\n",
            "_________________________________________________________________\n"
          ],
          "name": "stdout"
        }
      ]
    },
    {
      "cell_type": "code",
      "metadata": {
        "id": "wJdII_uKVsoi",
        "colab_type": "code",
        "colab": {
          "base_uri": "https://localhost:8080/",
          "height": 380
        },
        "outputId": "5403f227-37c2-41eb-d6a4-6b2980962375"
      },
      "source": [
        "model.fit(x_train, y_train, batch_size=32, epochs=10,\n",
        "         validation_data=(x_test, y_test))"
      ],
      "execution_count": 12,
      "outputs": [
        {
          "output_type": "stream",
          "text": [
            "Epoch 1/10\n",
            "782/782 [==============================] - 869s 1s/step - loss: 0.4654 - accuracy: 0.7824 - val_loss: 0.5185 - val_accuracy: 0.7585\n",
            "Epoch 2/10\n",
            "782/782 [==============================] - 870s 1s/step - loss: 0.3063 - accuracy: 0.8734 - val_loss: 0.3394 - val_accuracy: 0.8568\n",
            "Epoch 3/10\n",
            "782/782 [==============================] - 867s 1s/step - loss: 0.2060 - accuracy: 0.9195 - val_loss: 0.3450 - val_accuracy: 0.8629\n",
            "Epoch 4/10\n",
            "782/782 [==============================] - 867s 1s/step - loss: 0.1609 - accuracy: 0.9416 - val_loss: 0.3898 - val_accuracy: 0.8396\n",
            "Epoch 5/10\n",
            "782/782 [==============================] - 866s 1s/step - loss: 0.1173 - accuracy: 0.9580 - val_loss: 0.4423 - val_accuracy: 0.8478\n",
            "Epoch 6/10\n",
            "782/782 [==============================] - 866s 1s/step - loss: 0.0811 - accuracy: 0.9729 - val_loss: 0.5229 - val_accuracy: 0.8589\n",
            "Epoch 7/10\n",
            "782/782 [==============================] - 867s 1s/step - loss: 0.0622 - accuracy: 0.9789 - val_loss: 0.5154 - val_accuracy: 0.8595\n",
            "Epoch 8/10\n",
            "782/782 [==============================] - 866s 1s/step - loss: 0.0381 - accuracy: 0.9876 - val_loss: 0.6061 - val_accuracy: 0.8477\n",
            "Epoch 9/10\n",
            "782/782 [==============================] - 868s 1s/step - loss: 0.0350 - accuracy: 0.9886 - val_loss: 0.6219 - val_accuracy: 0.8576\n",
            "Epoch 10/10\n",
            "782/782 [==============================] - 865s 1s/step - loss: 0.0246 - accuracy: 0.9925 - val_loss: 0.6642 - val_accuracy: 0.8596\n"
          ],
          "name": "stdout"
        },
        {
          "output_type": "execute_result",
          "data": {
            "text/plain": [
              "<tensorflow.python.keras.callbacks.History at 0x7f469df22438>"
            ]
          },
          "metadata": {
            "tags": []
          },
          "execution_count": 12
        }
      ]
    },
    {
      "cell_type": "code",
      "metadata": {
        "id": "xXcHx6T-WR8X",
        "colab_type": "code",
        "colab": {
          "base_uri": "https://localhost:8080/",
          "height": 52
        },
        "outputId": "fb922754-871e-4d73-f6cd-b772bb222c36"
      },
      "source": [
        "loss, acc = model.evaluate(x_test, y_test)\n",
        "print(\"準確率：\", acc)"
      ],
      "execution_count": 14,
      "outputs": [
        {
          "output_type": "stream",
          "text": [
            "782/782 [==============================] - 69s 88ms/step - loss: 0.6642 - accuracy: 0.8596\n",
            "準確率： 0.8595600128173828\n"
          ],
          "name": "stdout"
        }
      ]
    },
    {
      "cell_type": "code",
      "metadata": {
        "id": "rIR2yfGp7zVB",
        "colab_type": "code",
        "colab": {}
      },
      "source": [
        ""
      ],
      "execution_count": 0,
      "outputs": []
    }
  ]
}